{
  "nbformat": 4,
  "nbformat_minor": 0,
  "metadata": {
    "colab": {
      "name": "Project1.ipynb",
      "provenance": [],
      "collapsed_sections": [],
      "include_colab_link": true
    },
    "kernelspec": {
      "name": "python3",
      "display_name": "Python 3"
    }
  },
  "cells": [
    {
      "cell_type": "markdown",
      "metadata": {
        "id": "view-in-github",
        "colab_type": "text"
      },
      "source": [
        "<a href=\"https://colab.research.google.com/github/joyceee916/ATMS-597-SP-2020/blob/master/Project1.ipynb\" target=\"_parent\"><img src=\"https://colab.research.google.com/assets/colab-badge.svg\" alt=\"Open In Colab\"/></a>"
      ]
    },
    {
      "cell_type": "code",
      "metadata": {
        "id": "DVf080VR2nQD",
        "colab_type": "code",
        "colab": {}
      },
      "source": [
        "###Project 1###"
      ],
      "execution_count": 0,
      "outputs": []
    },
    {
      "cell_type": "code",
      "metadata": {
        "id": "Y5n3s7_t2ryo",
        "colab_type": "code",
        "colab": {}
      },
      "source": [
        "###We need a class that basically defines 6 functions.\n",
        "###The functions will convert:\n",
        "###1. Kelvin to Fahrenheit   (Kevin will work on this)\n",
        "###2. Kelvin to Celsius      (Kevin will work on this)\n",
        "###3. Fahrenheit to Kelvin   (Rylan will work on this)\n",
        "###4. Fahrenheit to Celsius  (Rylan will work on this)\n",
        "###5. Celsius to Kelvin      (Joyce will work on this)\n",
        "###6. Celsius to Fahrenheit  (Joyce will work on this)"
      ],
      "execution_count": 0,
      "outputs": []
    },
    {
      "cell_type": "code",
      "metadata": {
        "id": "COyzfSnVn6-N",
        "colab_type": "code",
        "colab": {}
      },
      "source": [
        "import numpy as np"
      ],
      "execution_count": 0,
      "outputs": []
    },
    {
      "cell_type": "code",
      "metadata": {
        "id": "9M5mAl0O3_dC",
        "colab_type": "code",
        "colab": {}
      },
      "source": [
        "class convert:\n",
        "    \"\"\"A class for various conversions between temperature units\"\"\"\n",
        "    def K_to_F(K):\n",
        "        F = []\n",
        "        for i in K:\n",
        "            x = ((i-273.15)*(9.0/5.0))+32.0\n",
        "            F.append(x)\n",
        "        return(F)\n",
        "    def K_to_C(K):\n",
        "        C = []\n",
        "        for i in K:\n",
        "            x = i-273.15\n",
        "            C.append(x)\n",
        "        return(C)\n",
        "    def C_to_K(C):\n",
        "        K = []\n",
        "        for i in C:\n",
        "            x = i+273.15\n",
        "            K.append(x)\n",
        "        return(K)\n",
        "    def C_to_F(C):\n",
        "        F = []\n",
        "        for i in C:\n",
        "            x = i*(9.0/5.0)+32.0\n",
        "            F.append(x)\n",
        "        return(F)"
      ],
      "execution_count": 0,
      "outputs": []
    },
    {
      "cell_type": "code",
      "metadata": {
        "id": "GoRi0cc84pSd",
        "colab_type": "code",
        "colab": {}
      },
      "source": [
        "x = convert"
      ],
      "execution_count": 0,
      "outputs": []
    },
    {
      "cell_type": "code",
      "metadata": {
        "id": "i4kvbw_g4rkz",
        "colab_type": "code",
        "outputId": "4fbcb490-1cf5-4dd2-f709-6811082fe8c0",
        "colab": {
          "base_uri": "https://localhost:8080/",
          "height": 34
        }
      },
      "source": [
        "x.K_to_C([273.15, 274.15])"
      ],
      "execution_count": 23,
      "outputs": [
        {
          "output_type": "execute_result",
          "data": {
            "text/plain": [
              "[0.0, 1.0]"
            ]
          },
          "metadata": {
            "tags": []
          },
          "execution_count": 23
        }
      ]
    },
    {
      "cell_type": "code",
      "metadata": {
        "id": "N3aADa8bmukV",
        "colab_type": "code",
        "colab": {
          "base_uri": "https://localhost:8080/",
          "height": 34
        },
        "outputId": "dcbe099c-92e3-4f6b-9f76-92809bd564c4"
      },
      "source": [
        "x.C_to_K([303, 101, 20])"
      ],
      "execution_count": 24,
      "outputs": [
        {
          "output_type": "execute_result",
          "data": {
            "text/plain": [
              "[576.15, 374.15, 293.15]"
            ]
          },
          "metadata": {
            "tags": []
          },
          "execution_count": 24
        }
      ]
    },
    {
      "cell_type": "code",
      "metadata": {
        "id": "9G3iTCiFnCbX",
        "colab_type": "code",
        "colab": {}
      },
      "source": [
        "c = np.array([10, 20, 30])"
      ],
      "execution_count": 0,
      "outputs": []
    },
    {
      "cell_type": "code",
      "metadata": {
        "id": "qY3BnOBgnKVO",
        "colab_type": "code",
        "colab": {
          "base_uri": "https://localhost:8080/",
          "height": 34
        },
        "outputId": "8f15bc88-56f7-4252-9e32-d1a48a96b3a5"
      },
      "source": [
        "x.C_to_F(c)"
      ],
      "execution_count": 26,
      "outputs": [
        {
          "output_type": "execute_result",
          "data": {
            "text/plain": [
              "[50.0, 68.0, 86.0]"
            ]
          },
          "metadata": {
            "tags": []
          },
          "execution_count": 26
        }
      ]
    },
    {
      "cell_type": "code",
      "metadata": {
        "id": "f6jn4Tuh8esl",
        "colab_type": "code",
        "outputId": "7950e6fb-4258-4d1d-ede6-358856d9db90",
        "colab": {
          "base_uri": "https://localhost:8080/",
          "height": 34
        }
      },
      "source": [
        "x.K_to_F([273.15, 274.15])"
      ],
      "execution_count": 27,
      "outputs": [
        {
          "output_type": "execute_result",
          "data": {
            "text/plain": [
              "[32.0, 33.8]"
            ]
          },
          "metadata": {
            "tags": []
          },
          "execution_count": 27
        }
      ]
    },
    {
      "cell_type": "code",
      "metadata": {
        "id": "LjHqesfW4was",
        "colab_type": "code",
        "colab": {}
      },
      "source": [
        "###Here is the basic idea. Need to make sure this works on lists and numpy arrays as part of the project (my code above currently does not do that - Kevin)"
      ],
      "execution_count": 0,
      "outputs": []
    }
  ]
}
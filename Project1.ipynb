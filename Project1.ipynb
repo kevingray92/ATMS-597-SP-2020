{
  "nbformat": 4,
  "nbformat_minor": 0,
  "metadata": {
    "colab": {
      "name": "Project1.ipynb",
      "provenance": [],
      "collapsed_sections": [],
      "include_colab_link": true
    },
    "kernelspec": {
      "name": "python3",
      "display_name": "Python 3"
    }
  },
  "cells": [
    {
      "cell_type": "markdown",
      "metadata": {
        "id": "view-in-github",
        "colab_type": "text"
      },
      "source": [
        "<a href=\"https://colab.research.google.com/github/kevingray92/ATMS-597-SP-2020/blob/add_numpy/Project1.ipynb\" target=\"_parent\"><img src=\"https://colab.research.google.com/assets/colab-badge.svg\" alt=\"Open In Colab\"/></a>"
      ]
    },
    {
      "cell_type": "code",
      "metadata": {
        "id": "DVf080VR2nQD",
        "colab_type": "code",
        "colab": {}
      },
      "source": [
        "# Project 1"
      ],
      "execution_count": 0,
      "outputs": []
    },
    {
      "cell_type": "code",
      "metadata": {
        "id": "Y5n3s7_t2ryo",
        "colab_type": "code",
        "colab": {}
      },
      "source": [
        "# We need a class that basically defines 6 functions.\n",
        "# The functions will convert:\n",
        "# 1. Kelvin to Fahrenheit   (Kevin will work on this)\n",
        "# 2. Kelvin to Celsius      (Kevin will work on this)\n",
        "# 3. Fahrenheit to Kelvin   (Rylan will work on this)\n",
        "# 4. Fahrenheit to Celsius  (Rylan will work on this)\n",
        "# 5. Celsius to Kelvin      (Joyce will work on this)\n",
        "# 6. Celsius to Fahrenheit  (Joyce will work on this)"
      ],
      "execution_count": 0,
      "outputs": []
    },
    {
      "cell_type": "code",
      "metadata": {
        "id": "xaQnp2riMH9C",
        "colab_type": "code",
        "colab": {}
      },
      "source": [
        "import numpy as np"
      ],
      "execution_count": 0,
      "outputs": []
    },
    {
      "cell_type": "code",
      "metadata": {
        "id": "9M5mAl0O3_dC",
        "colab_type": "code",
        "colab": {}
      },
      "source": [
        "class convert:\n",
        "    \"\"\"A class for various conversions between temperature units\"\"\"\n",
        "    def K_to_F(K): # define a function\n",
        "        F = [] # declare an empty list\n",
        "        for i in K: # start a for loop\n",
        "            x = ((i-273.15)*(9.0/5.0))+32.0 # this is the calculation for the conversion\n",
        "            F.append(x) # append new value to the empty list declared earlier\n",
        "        return(F) # return the list of new values\n",
        "    \n",
        "    def K_to_C(K):\n",
        "        C = []\n",
        "        for i in K:\n",
        "            x = i-273.15\n",
        "            C.append(x)\n",
        "        return(C)\n",
        "\n",
        "    def F_to_K(F):\n",
        "        K = []\n",
        "        for i in F:\n",
        "            x = ((i - 32) * (5/9)) + 273.15\n",
        "            K.append(x)\n",
        "        return(K)\n",
        "\n",
        "    def F_to_C(F):\n",
        "        C = []\n",
        "        for i in F:\n",
        "            x = ((i - 32) * (5/9))\n",
        "            C.append(x)\n",
        "        return(C)\n",
        "    \n",
        "    def C_to_K(C):\n",
        "        K = []\n",
        "        for i in C:\n",
        "            x = i+273.15\n",
        "            K.append(x)\n",
        "        return(K)\n",
        "        \n",
        "    def C_to_F(C):\n",
        "        F = []\n",
        "        for i in C:\n",
        "            x = i*(9.0/5.0)+32.0\n",
        "            F.append(x)\n",
        "        return(F)"
      ],
      "execution_count": 0,
      "outputs": []
    },
    {
      "cell_type": "code",
      "metadata": {
        "id": "GoRi0cc84pSd",
        "colab_type": "code",
        "colab": {}
      },
      "source": [
        "x = convert # assign the class to a variable x"
      ],
      "execution_count": 0,
      "outputs": []
    },
    {
      "cell_type": "code",
      "metadata": {
        "id": "i4kvbw_g4rkz",
        "colab_type": "code",
        "outputId": "bf85b7da-f562-47b0-a463-23142660791b",
        "colab": {
          "base_uri": "https://localhost:8080/",
          "height": 35
        }
      },
      "source": [
        "x.K_to_C([273.15, 274.15]) # call the K_to_C function from the x variable "
      ],
      "execution_count": 10,
      "outputs": [
        {
          "output_type": "execute_result",
          "data": {
            "text/plain": [
              "[0.0, 1.0]"
            ]
          },
          "metadata": {
            "tags": []
          },
          "execution_count": 10
        }
      ]
    },
    {
      "cell_type": "code",
      "metadata": {
        "id": "f6jn4Tuh8esl",
        "colab_type": "code",
        "outputId": "a59bf0c6-68b7-4c23-8a75-ad28fb622a5b",
        "colab": {
          "base_uri": "https://localhost:8080/",
          "height": 35
        }
      },
      "source": [
        "a = x.K_to_F([273.15, 274.15]) # another example.\n",
        "print(a, type(a))"
      ],
      "execution_count": 11,
      "outputs": [
        {
          "output_type": "stream",
          "text": [
            "[32.0, 33.8] <class 'list'>\n"
          ],
          "name": "stdout"
        }
      ]
    },
    {
      "cell_type": "code",
      "metadata": {
        "id": "HvtxfesriYhI",
        "colab_type": "code",
        "outputId": "9fb57a73-123b-4267-ea24-100e1ab5dc4f",
        "colab": {
          "base_uri": "https://localhost:8080/",
          "height": 35
        }
      },
      "source": [
        "x.F_to_K([32]) # another example."
      ],
      "execution_count": 12,
      "outputs": [
        {
          "output_type": "execute_result",
          "data": {
            "text/plain": [
              "[273.15]"
            ]
          },
          "metadata": {
            "tags": []
          },
          "execution_count": 12
        }
      ]
    },
    {
      "cell_type": "code",
      "metadata": {
        "id": "xWXz-RK0ivnX",
        "colab_type": "code",
        "outputId": "e74307e6-4b73-4d5a-c308-4b4be54919b9",
        "colab": {
          "base_uri": "https://localhost:8080/",
          "height": 35
        }
      },
      "source": [
        "x.F_to_C([32, 100]) # another example."
      ],
      "execution_count": 13,
      "outputs": [
        {
          "output_type": "execute_result",
          "data": {
            "text/plain": [
              "[0.0, 37.77777777777778]"
            ]
          },
          "metadata": {
            "tags": []
          },
          "execution_count": 13
        }
      ]
    },
    {
      "cell_type": "code",
      "metadata": {
        "colab_type": "code",
        "id": "8O2PykYviWOF",
        "colab": {
          "base_uri": "https://localhost:8080/",
          "height": 35
        },
        "outputId": "5e8522ff-c1b7-4852-e321-e94ee8ec4fda"
      },
      "source": [
        "ar1 = np.arange(10) # set up a numpy array.\n",
        "ar1"
      ],
      "execution_count": 15,
      "outputs": [
        {
          "output_type": "execute_result",
          "data": {
            "text/plain": [
              "array([0, 1, 2, 3, 4, 5, 6, 7, 8, 9])"
            ]
          },
          "metadata": {
            "tags": []
          },
          "execution_count": 15
        }
      ]
    },
    {
      "cell_type": "code",
      "metadata": {
        "id": "9tyh4_UfMnKJ",
        "colab_type": "code",
        "colab": {
          "base_uri": "https://localhost:8080/",
          "height": 191
        },
        "outputId": "51d5dbd5-7193-4872-c204-1aa41175787f"
      },
      "source": [
        "x.C_to_K(ar1) # check that the functions work on a numpy array."
      ],
      "execution_count": 16,
      "outputs": [
        {
          "output_type": "execute_result",
          "data": {
            "text/plain": [
              "[273.15,\n",
              " 274.15,\n",
              " 275.15,\n",
              " 276.15,\n",
              " 277.15,\n",
              " 278.15,\n",
              " 279.15,\n",
              " 280.15,\n",
              " 281.15,\n",
              " 282.15]"
            ]
          },
          "metadata": {
            "tags": []
          },
          "execution_count": 16
        }
      ]
    },
    {
      "cell_type": "code",
      "metadata": {
        "id": "9TlJJ9pLNAjA",
        "colab_type": "code",
        "colab": {
          "base_uri": "https://localhost:8080/",
          "height": 35
        },
        "outputId": "5b368f7d-c040-4293-bdfc-1106ad20b4ea"
      },
      "source": [
        "x.C_to_F(ar1) # another example and test of the last function."
      ],
      "execution_count": 17,
      "outputs": [
        {
          "output_type": "execute_result",
          "data": {
            "text/plain": [
              "[32.0, 33.8, 35.6, 37.4, 39.2, 41.0, 42.8, 44.6, 46.4, 48.2]"
            ]
          },
          "metadata": {
            "tags": []
          },
          "execution_count": 17
        }
      ]
    },
    {
      "cell_type": "code",
      "metadata": {
        "id": "ZnrCpyQmOMUl",
        "colab_type": "code",
        "colab": {}
      },
      "source": [
        ""
      ],
      "execution_count": 0,
      "outputs": []
    }
  ]
}
{
  "nbformat": 4,
  "nbformat_minor": 0,
  "metadata": {
    "colab": {
      "name": "Project1.ipynb",
      "provenance": [],
      "collapsed_sections": [],
      "include_colab_link": true
    },
    "kernelspec": {
      "name": "python3",
      "display_name": "Python 3"
    }
  },
  "cells": [
    {
      "cell_type": "markdown",
      "metadata": {
        "id": "view-in-github",
        "colab_type": "text"
      },
      "source": [
        "<a href=\"https://colab.research.google.com/github/kevingray92/ATMS-597-SP-2020/blob/master/Project1.ipynb\" target=\"_parent\"><img src=\"https://colab.research.google.com/assets/colab-badge.svg\" alt=\"Open In Colab\"/></a>"
      ]
    },
    {
      "cell_type": "code",
      "metadata": {
        "id": "DVf080VR2nQD",
        "colab_type": "code",
        "colab": {}
      },
      "source": [
        "###Project 1###"
      ],
      "execution_count": 0,
      "outputs": []
    },
    {
      "cell_type": "code",
      "metadata": {
        "id": "Y5n3s7_t2ryo",
        "colab_type": "code",
        "colab": {}
      },
      "source": [
        "###We need a class that basically defines 6 functions.\n",
        "###The functions will convert:\n",
        "###1. Kelvin to Fahrenheit   (Kevin will work on this)\n",
        "###2. Kelvin to Celsius      (Kevin will work on this)\n",
        "###3. Fahrenheit to Kelvin   (Rylan will work on this)\n",
        "###4. Fahrenheit to Celsius  (Rylan will work on this)\n",
        "###5. Celsius to Kelvin      (Joyce will work on this)\n",
        "###6. Celsius to Fahrenheit  (Joyce will work on this)"
      ],
      "execution_count": 0,
      "outputs": []
    },
    {
      "cell_type": "code",
      "metadata": {
        "id": "9M5mAl0O3_dC",
        "colab_type": "code",
        "colab": {}
      },
      "source": [
        "class convert:\n",
        "    \"\"\"A class for various conversions between temperature units\"\"\"\n",
        "    def K_to_F(K): # define a function\n",
        "        F = [] # declare an empty list\n",
        "        for i in K: # start a for loop\n",
        "            x = ((i-273.15)*(9.0/5.0))+32.0 # this is the calculation for the conversion\n",
        "            F.append(x) # append new value to the empty list declared earlier\n",
        "        return(F) # return the list of new values\n",
        "    \n",
        "    def K_to_C(K):\n",
        "        C = []\n",
        "        for i in K:\n",
        "            x = i-273.15\n",
        "            C.append(x)\n",
        "        return(C)\n",
        "\n",
        "    def F_to_K(F):\n",
        "        K = []\n",
        "        for i in F:\n",
        "            x = ((i - 32) * (5/9)) + 273.15\n",
        "            K.append(x)\n",
        "        return(K)\n",
        "\n",
        "    def F_to_C(F):\n",
        "        C = []\n",
        "        for i in F:\n",
        "            x = ((i - 32) * (5/9))\n",
        "            C.append(x)\n",
        "        return(C)\n",
        "    \n",
        "    def C_to_K(C):\n",
        "        K = []\n",
        "        for i in C:\n",
        "            x = i+273.15\n",
        "            K.append(x)\n",
        "        return(K)\n",
        "        \n",
        "    def C_to_F(C):\n",
        "        F = []\n",
        "        for i in C:\n",
        "            x = i*(9.0/5.0)+32.0\n",
        "            F.append(x)\n",
        "        return(F)"
      ],
      "execution_count": 0,
      "outputs": []
    },
    {
      "cell_type": "code",
      "metadata": {
        "id": "GoRi0cc84pSd",
        "colab_type": "code",
        "colab": {}
      },
      "source": [
        "x = convert # assign the class to a variable x"
      ],
      "execution_count": 0,
      "outputs": []
    },
    {
      "cell_type": "code",
      "metadata": {
        "id": "i4kvbw_g4rkz",
        "colab_type": "code",
        "outputId": "ac3bd4a0-cff0-4b61-c785-c562088b9c51",
        "colab": {
          "base_uri": "https://localhost:8080/",
          "height": 35
        }
      },
      "source": [
        "x.K_to_C([273.15, 274.15]) # call the K_to_C function from the x variable "
      ],
      "execution_count": 5,
      "outputs": [
        {
          "output_type": "execute_result",
          "data": {
            "text/plain": [
              "[0.0, 1.0]"
            ]
          },
          "metadata": {
            "tags": []
          },
          "execution_count": 5
        }
      ]
    },
    {
      "cell_type": "code",
      "metadata": {
        "id": "f6jn4Tuh8esl",
        "colab_type": "code",
        "outputId": "1d5a217f-fdc5-46fc-c7a1-3612408b2fbf",
        "colab": {
          "base_uri": "https://localhost:8080/",
          "height": 35
        }
      },
      "source": [
        "a = x.K_to_F([273.15, 274.15]) # another example.\n",
        "print(a, type(a))"
      ],
      "execution_count": 9,
      "outputs": [
        {
          "output_type": "stream",
          "text": [
            "[32.0, 33.8] <class 'list'>\n"
          ],
          "name": "stdout"
        }
      ]
    },
    {
      "cell_type": "code",
      "metadata": {
        "id": "HvtxfesriYhI",
        "colab_type": "code",
        "outputId": "f0792066-db6a-40eb-94e8-370f87d11982",
        "colab": {
          "base_uri": "https://localhost:8080/",
          "height": 35
        }
      },
      "source": [
        "x.F_to_K([32])"
      ],
      "execution_count": 7,
      "outputs": [
        {
          "output_type": "execute_result",
          "data": {
            "text/plain": [
              "[273.15]"
            ]
          },
          "metadata": {
            "tags": []
          },
          "execution_count": 7
        }
      ]
    },
    {
      "cell_type": "code",
      "metadata": {
        "id": "xWXz-RK0ivnX",
        "colab_type": "code",
        "outputId": "fb6952e6-dc54-4b72-c951-3e3c48f6d4d0",
        "colab": {
          "base_uri": "https://localhost:8080/",
          "height": 35
        }
      },
      "source": [
        "x.F_to_C([32, 100])"
      ],
      "execution_count": 8,
      "outputs": [
        {
          "output_type": "execute_result",
          "data": {
            "text/plain": [
              "[0.0, 37.77777777777778]"
            ]
          },
          "metadata": {
            "tags": []
          },
          "execution_count": 8
        }
      ]
    },
    {
      "cell_type": "code",
      "metadata": {
        "colab_type": "code",
        "id": "8O2PykYviWOF",
        "colab": {}
      },
      "source": [
        "###Here is the basic idea. Need to make sure this works on lists and numpy arrays as part of the project (my code above currently does not do that - Kevin)"
      ],
      "execution_count": 0,
      "outputs": []
    }
  ]
}
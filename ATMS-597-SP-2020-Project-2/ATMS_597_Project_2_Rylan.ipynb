{
  "nbformat": 4,
  "nbformat_minor": 0,
  "metadata": {
    "colab": {
      "name": "ATMS 597- Project-2_Miller.ipynb",
      "provenance": [],
      "include_colab_link": true
    },
    "kernelspec": {
      "name": "python3",
      "display_name": "Python 3"
    }
  },
  "cells": [
    {
      "cell_type": "markdown",
      "metadata": {
        "id": "view-in-github",
        "colab_type": "text"
      },
      "source": [
        "<a href=\"https://colab.research.google.com/github/kevingray92/ATMS-597-SP-2020/blob/patch-1/ATMS-597-SP-2020-Project-2/ATMS_597_Project_2_Gray.ipynb\" target=\"_parent\"><img src=\"https://colab.research.google.com/assets/colab-badge.svg\" alt=\"Open In Colab\"/></a>"
      ]
    },
    {
      "cell_type": "code",
      "metadata": {
        "id": "7YeS_LAAa4nY",
        "colab_type": "code",
        "colab": {}
      },
      "source": [
        "import numpy as np\n",
        "import pandas as pd"
      ],
      "execution_count": 0,
      "outputs": []
    },
    {
      "cell_type": "code",
      "metadata": {
        "id": "yyUl1qCsNWzH",
        "colab_type": "code",
        "colab": {}
      },
      "source": [
        "import requests\n",
        "\n",
        "def make_request(endpoint, payload=None):\n",
        "    \"\"\"\n",
        "    Make a request to a specific endpoint on the weather API\n",
        "    passing headers and optional payload.\n",
        "    \n",
        "    Parameters:\n",
        "        - endpoint: The endpoint of the API you want to \n",
        "                    make a GET request to.\n",
        "        - payload: A dictionary of data to pass along \n",
        "                   with the request.\n",
        "    \n",
        "    Returns:\n",
        "        Response object.\n",
        "    \"\"\"\n",
        "    return requests.get(\n",
        "        f'https://www.ncdc.noaa.gov/cdo-web/api/v2/'+endpoint,\n",
        "        headers={\n",
        "            'token': 'yicVcIaiwUAgtBveaBtWSaioiQvqRJRh'\n",
        "        },\n",
        "        params=payload\n",
        "    )"
      ],
      "execution_count": 0,
      "outputs": []
    },
    {
      "cell_type": "code",
      "metadata": {
        "id": "MfRz-6U-718K",
        "colab_type": "code",
        "colab": {}
      },
      "source": [
        "# This cell will request locations. We used this to find the locationid for Champaign, IL area.\n",
        "# !!!No need to run this cell again unless we want to look up a new locationid!!!\n",
        "\n",
        "response = make_request(\n",
        "    'locations', \n",
        "    {\n",
        "        'datasetid' : 'GHCND', \n",
        "        'locationcategoryid' : 'CITY',\n",
        "        'datacategoryid' : 'TEMP',\n",
        "        'sortorder' : 'desc',\n",
        "        'limit' : 1000 # max allowed\n",
        "    }\n",
        ")\n",
        "response.json()"
      ],
      "execution_count": 0,
      "outputs": []
    },
    {
      "cell_type": "code",
      "metadata": {
        "id": "ApHTPiIx5jEE",
        "colab_type": "code",
        "colab": {}
      },
      "source": [
        "# This cell will request stations. We used this to find the stationid for Rantoul, IL station.\n",
        "# !!!No need to run this cell again unless we want to look up a new stationid!!!\n",
        "\n",
        "response = make_request(\n",
        "    'stations', \n",
        "    {\n",
        "        'datasetid' : 'GHCND',\n",
        "        'locationid' : 'CITY:US170004', \n",
        "        'datacategoryid' : 'TEMP',\n",
        "        'limit' : 1000 # max allowed\n",
        "    }\n",
        ")\n",
        "response.json()"
      ],
      "execution_count": 0,
      "outputs": []
    },
    {
      "cell_type": "code",
      "metadata": {
        "id": "853uzLN1S2Ox",
        "colab_type": "code",
        "colab": {}
      },
      "source": [
        "# Create lists containing the beginning and end of years we want to loop over.\n",
        "# Clunky for now, can probably make this smoother using some kind of loop to add one to the year each time\n",
        "\n",
        "\n",
        "currentlist = [datetime.date(2015, 1, 1), datetime.date(2016, 1, 1), datetime.date(2017, 1, 1), datetime.date(2018, 1, 1), datetime.date(2019, 1, 1)]\n",
        "endlist = [datetime.date(2015, 12, 31), datetime.date(2016, 12, 31), datetime.date(2017, 12, 31), datetime.date(2018, 12, 31),datetime.date(2019, 12, 31)]"
      ],
      "execution_count": 0,
      "outputs": []
    },
    {
      "cell_type": "code",
      "metadata": {
        "id": "f-TEFfTcKXQu",
        "colab_type": "code",
        "colab": {
          "base_uri": "https://localhost:8080/",
          "height": 35
        },
        "outputId": "4f56292f-4d70-44d4-85d1-cf51edede499"
      },
      "source": [
        "# This cell will request the data\n",
        "\n",
        "results = [] # get an empty list to fill with data\n",
        "numloops = np.arange(len(currentlist)) # fill a numper array with the length of the list of years we want\n",
        "\n",
        "#Start the loop over the years we want\n",
        "for i in numloops:\n",
        "    current = currentlist[i] # set current to the beginning of the year in our loop\n",
        "    end = endlist[i] # set end to the end of the year in our loop\n",
        "    # update the cell with status information\n",
        "    display.clear_output(wait=True)\n",
        "    display.display(f'Gathering data for {str(current)}')\n",
        "    response = make_request(\n",
        "        'data', \n",
        "        {\n",
        "            'datasetid' : 'GHCND', # Global Historical Climatology Network - Daily (GHCND) dataset\n",
        "            'datatypeid' : 'TMAX',\n",
        "            'stationid' : 'GHCND:USW00014806',\n",
        "            'startdate' : current,\n",
        "            'enddate' : end,\n",
        "            'units' : 'metric',\n",
        "            'limit' : 1000 # max allowed\n",
        "        }\n",
        "    )\n",
        "    response.json()\n",
        "    results.extend(response.json()['results']) # put the data in the results list"
      ],
      "execution_count": 103,
      "outputs": [
        {
          "output_type": "display_data",
          "data": {
            "text/plain": [
              "'Gathering data for 2019-01-01'"
            ]
          },
          "metadata": {
            "tags": []
          }
        }
      ]
    },
    {
      "cell_type": "code",
      "metadata": {
        "id": "g3HMbRHrSINc",
        "colab_type": "code",
        "colab": {
          "base_uri": "https://localhost:8080/",
          "height": 35
        },
        "outputId": "bc69e776-173a-40aa-87f4-ab9b5a5f4d4b"
      },
      "source": [
        "len(results) # check the length of the results list to make sure we have the correct number of days"
      ],
      "execution_count": 104,
      "outputs": [
        {
          "output_type": "execute_result",
          "data": {
            "text/plain": [
              "1826"
            ]
          },
          "metadata": {
            "tags": []
          },
          "execution_count": 104
        }
      ]
    },
    {
      "cell_type": "code",
      "metadata": {
        "id": "g__oiMN8VQWU",
        "colab_type": "code",
        "colab": {
          "base_uri": "https://localhost:8080/",
          "height": 202
        },
        "outputId": "dee65001-b08f-4142-9713-452aa54d6c5c"
      },
      "source": [
        "# Put the results in a pandas dataframe\n",
        "df = pd.DataFrame(results)\n",
        "df.head()"
      ],
      "execution_count": 105,
      "outputs": [
        {
          "output_type": "execute_result",
          "data": {
            "text/html": [
              "<div>\n",
              "<style scoped>\n",
              "    .dataframe tbody tr th:only-of-type {\n",
              "        vertical-align: middle;\n",
              "    }\n",
              "\n",
              "    .dataframe tbody tr th {\n",
              "        vertical-align: top;\n",
              "    }\n",
              "\n",
              "    .dataframe thead th {\n",
              "        text-align: right;\n",
              "    }\n",
              "</style>\n",
              "<table border=\"1\" class=\"dataframe\">\n",
              "  <thead>\n",
              "    <tr style=\"text-align: right;\">\n",
              "      <th></th>\n",
              "      <th>date</th>\n",
              "      <th>datatype</th>\n",
              "      <th>station</th>\n",
              "      <th>attributes</th>\n",
              "      <th>value</th>\n",
              "    </tr>\n",
              "  </thead>\n",
              "  <tbody>\n",
              "    <tr>\n",
              "      <th>0</th>\n",
              "      <td>2015-01-01T00:00:00</td>\n",
              "      <td>TMAX</td>\n",
              "      <td>GHCND:USW00014806</td>\n",
              "      <td>,,7,0700</td>\n",
              "      <td>0.6</td>\n",
              "    </tr>\n",
              "    <tr>\n",
              "      <th>1</th>\n",
              "      <td>2015-01-02T00:00:00</td>\n",
              "      <td>TMAX</td>\n",
              "      <td>GHCND:USW00014806</td>\n",
              "      <td>,,7,0700</td>\n",
              "      <td>1.7</td>\n",
              "    </tr>\n",
              "    <tr>\n",
              "      <th>2</th>\n",
              "      <td>2015-01-03T00:00:00</td>\n",
              "      <td>TMAX</td>\n",
              "      <td>GHCND:USW00014806</td>\n",
              "      <td>,,7,0700</td>\n",
              "      <td>2.2</td>\n",
              "    </tr>\n",
              "    <tr>\n",
              "      <th>3</th>\n",
              "      <td>2015-01-04T00:00:00</td>\n",
              "      <td>TMAX</td>\n",
              "      <td>GHCND:USW00014806</td>\n",
              "      <td>,,7,0700</td>\n",
              "      <td>1.1</td>\n",
              "    </tr>\n",
              "    <tr>\n",
              "      <th>4</th>\n",
              "      <td>2015-01-05T00:00:00</td>\n",
              "      <td>TMAX</td>\n",
              "      <td>GHCND:USW00014806</td>\n",
              "      <td>,,7,0700</td>\n",
              "      <td>-7.8</td>\n",
              "    </tr>\n",
              "  </tbody>\n",
              "</table>\n",
              "</div>"
            ],
            "text/plain": [
              "                  date datatype            station attributes  value\n",
              "0  2015-01-01T00:00:00     TMAX  GHCND:USW00014806   ,,7,0700    0.6\n",
              "1  2015-01-02T00:00:00     TMAX  GHCND:USW00014806   ,,7,0700    1.7\n",
              "2  2015-01-03T00:00:00     TMAX  GHCND:USW00014806   ,,7,0700    2.2\n",
              "3  2015-01-04T00:00:00     TMAX  GHCND:USW00014806   ,,7,0700    1.1\n",
              "4  2015-01-05T00:00:00     TMAX  GHCND:USW00014806   ,,7,0700   -7.8"
            ]
          },
          "metadata": {
            "tags": []
          },
          "execution_count": 105
        }
      ]
    },
    {
      "cell_type": "code",
      "metadata": {
        "id": "uws28IlnWaw9",
        "colab_type": "code",
        "colab": {}
      },
      "source": [
        "###Rylan's code for getting Yearly Average Temperature goes here. ###"
      ],
      "execution_count": 0,
      "outputs": []
    },
    {
      "cell_type": "code",
      "metadata": {
        "id": "HDcOuL88XHFZ",
        "colab_type": "code",
        "colab": {}
      },
      "source": [
        ""
      ],
      "execution_count": 0,
      "outputs": []
    }
  ]
}

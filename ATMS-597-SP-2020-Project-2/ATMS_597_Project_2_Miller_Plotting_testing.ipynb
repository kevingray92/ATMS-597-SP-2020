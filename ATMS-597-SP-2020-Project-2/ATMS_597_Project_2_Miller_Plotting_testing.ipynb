{
  "nbformat": 4,
  "nbformat_minor": 0,
  "metadata": {
    "colab": {
      "name": "ATMS_597_Project_2_Miller_Plotting_Attempt.ipynb",
      "provenance": [],
      "collapsed_sections": [],
      "include_colab_link": true
    },
    "kernelspec": {
      "name": "python3",
      "display_name": "Python 3"
    }
  },
  "cells": [
    {
      "cell_type": "markdown",
      "metadata": {
        "id": "view-in-github",
        "colab_type": "text"
      },
      "source": [
        "<a href=\"https://colab.research.google.com/github/kevingray92/ATMS-597-SP-2020/blob/patch-2/ATMS-597-SP-2020-Project-2/ATMS_597_Project_2_Miller_Plotting_testing.ipynb\" target=\"_parent\"><img src=\"https://colab.research.google.com/assets/colab-badge.svg\" alt=\"Open In Colab\"/></a>"
      ]
    },
    {
      "cell_type": "code",
      "metadata": {
        "id": "7YeS_LAAa4nY",
        "colab_type": "code",
        "colab": {}
      },
      "source": [
        "import numpy as np\n",
        "import pandas as pd\n",
        "import datetime"
      ],
      "execution_count": 0,
      "outputs": []
    },
    {
      "cell_type": "code",
      "metadata": {
        "id": "yyUl1qCsNWzH",
        "colab_type": "code",
        "colab": {}
      },
      "source": [
        "import requests\n",
        "\n",
        "def make_request(endpoint, payload=None):\n",
        "    \"\"\"\n",
        "    Make a request to a specific endpoint on the weather API\n",
        "    passing headers and optional payload.\n",
        "    \n",
        "    Parameters:\n",
        "        - endpoint: The endpoint of the API you want to \n",
        "                    make a GET request to.\n",
        "        - payload: A dictionary of data to pass along \n",
        "                   with the request.\n",
        "    \n",
        "    Returns:\n",
        "        Response object.\n",
        "    \"\"\"\n",
        "    return requests.get(\n",
        "        f'https://www.ncdc.noaa.gov/cdo-web/api/v2/'+endpoint,\n",
        "        headers={\n",
        "            'token': 'yicVcIaiwUAgtBveaBtWSaioiQvqRJRh'\n",
        "        },\n",
        "        params=payload\n",
        "    )"
      ],
      "execution_count": 0,
      "outputs": []
    },
    {
      "cell_type": "code",
      "metadata": {
        "id": "MfRz-6U-718K",
        "colab_type": "code",
        "colab": {}
      },
      "source": [
        "# This cell will request locations. We used this to find the locationid for Champaign, IL area.\n",
        "# !!!No need to run this cell again unless we want to look up a new locationid!!!\n",
        "\n",
        "response = make_request(\n",
        "    'locations', \n",
        "    {\n",
        "        'datasetid' : 'GHCND', \n",
        "        'locationcategoryid' : 'CITY',\n",
        "        'datacategoryid' : 'TEMP',\n",
        "        'sortorder' : 'desc',\n",
        "        'limit' : 1000 # max allowed\n",
        "    }\n",
        ")\n",
        "response.json()"
      ],
      "execution_count": 0,
      "outputs": []
    },
    {
      "cell_type": "code",
      "metadata": {
        "id": "ApHTPiIx5jEE",
        "colab_type": "code",
        "colab": {}
      },
      "source": [
        "# This cell will request stations. We used this to find the stationid for Rantoul, IL station.\n",
        "# !!!No need to run this cell again unless we want to look up a new stationid!!!\n",
        "\n",
        "response = make_request(\n",
        "    'stations', \n",
        "    {\n",
        "        'datasetid' : 'GHCND',\n",
        "        'locationid' : 'CITY:US170004', \n",
        "        'datacategoryid' : 'TEMP',\n",
        "        'limit' : 1000 # max allowed\n",
        "    }\n",
        ")\n",
        "response.json()"
      ],
      "execution_count": 0,
      "outputs": []
    },
    {
      "cell_type": "code",
      "metadata": {
        "id": "853uzLN1S2Ox",
        "colab_type": "code",
        "colab": {}
      },
      "source": [
        "# Create lists containing the beginning and end of years we want to loop over.\n",
        "\n",
        "yearstoget = np.arange(1990,2000)\n",
        "currentlist = []\n",
        "endlist = []\n",
        "for i in yearstoget:\n",
        "    currentlist.append(datetime.date(i, 1, 1))\n",
        "    endlist.append(datetime.date(i, 12, 31))"
      ],
      "execution_count": 0,
      "outputs": []
    },
    {
      "cell_type": "code",
      "metadata": {
        "id": "f-TEFfTcKXQu",
        "colab_type": "code",
        "colab": {
          "base_uri": "https://localhost:8080/",
          "height": 191
        },
        "outputId": "59d940f5-ab1a-40d3-e8fb-33a01b27baf1"
      },
      "source": [
        "# This cell will request the data\n",
        "\n",
        "resultsmax = [] # get an empty list to fill with data\n",
        "numloops = np.arange(len(currentlist)) # fill a numpy array with the length of the list of years we want\n",
        "\n",
        "#Start the loop over the years we want\n",
        "for i in numloops:\n",
        "    print(currentlist[i])\n",
        "    current = currentlist[i] # set current to the beginning of the year in our loop\n",
        "    end = endlist[i] # set end to the end of the year in our loop\n",
        "    # update the cell with status information\n",
        "    #display.clear_output(wait=True)\n",
        "    #display.display(f'Gathering data for {str(current)}')\n",
        "    response = make_request(\n",
        "        'data', \n",
        "        {\n",
        "            'datasetid' : 'GHCND', # Global Historical Climatology Network - Daily (GHCND) dataset\n",
        "            'datatypeid' : 'TMAX',\n",
        "            'stationid' : 'GHCND:USW00014806',\n",
        "            'startdate' : current,\n",
        "            'enddate' : end,\n",
        "            'units' : 'metric',\n",
        "            'limit' : 1000 # max allowed\n",
        "        }\n",
        "    )\n",
        "    response.json()\n",
        "    resultsmax.extend(response.json()['results']) # put the data in the results list"
      ],
      "execution_count": 23,
      "outputs": [
        {
          "output_type": "stream",
          "text": [
            "1990-01-01\n",
            "1991-01-01\n",
            "1992-01-01\n",
            "1993-01-01\n",
            "1994-01-01\n",
            "1995-01-01\n",
            "1996-01-01\n",
            "1997-01-01\n",
            "1998-01-01\n",
            "1999-01-01\n"
          ],
          "name": "stdout"
        }
      ]
    },
    {
      "cell_type": "code",
      "metadata": {
        "id": "2byF79NvCSBr",
        "colab_type": "code",
        "colab": {
          "base_uri": "https://localhost:8080/",
          "height": 191
        },
        "outputId": "1bb15647-e19a-4581-c1fd-77607a237ffa"
      },
      "source": [
        "# This cell will request the data\n",
        "\n",
        "resultsmin = [] # get an empty list to fill with data\n",
        "numloops = np.arange(len(currentlist)) # fill a numpy array with the length of the list of years we want\n",
        "\n",
        "#Start the loop over the years we want\n",
        "for i in numloops:\n",
        "    print(currentlist[i])\n",
        "    current = currentlist[i] # set current to the beginning of the year in our loop\n",
        "    end = endlist[i] # set end to the end of the year in our loop\n",
        "    # update the cell with status information\n",
        "    #display.clear_output(wait=True)\n",
        "    #display.display(f'Gathering data for {str(current)}')\n",
        "    response = make_request(\n",
        "        'data', \n",
        "        {\n",
        "            'datasetid' : 'GHCND', # Global Historical Climatology Network - Daily (GHCND) dataset\n",
        "            'datatypeid' : 'TMIN',\n",
        "            'stationid' : 'GHCND:USW00014806',\n",
        "            'startdate' : current,\n",
        "            'enddate' : end,\n",
        "            'units' : 'metric',\n",
        "            'limit' : 1000 # max allowed\n",
        "        }\n",
        "    )\n",
        "    response.json()\n",
        "    resultsmin.extend(response.json()['results']) # put the data in the results list"
      ],
      "execution_count": 25,
      "outputs": [
        {
          "output_type": "stream",
          "text": [
            "1990-01-01\n",
            "1991-01-01\n",
            "1992-01-01\n",
            "1993-01-01\n",
            "1994-01-01\n",
            "1995-01-01\n",
            "1996-01-01\n",
            "1997-01-01\n",
            "1998-01-01\n",
            "1999-01-01\n"
          ],
          "name": "stdout"
        }
      ]
    },
    {
      "cell_type": "code",
      "metadata": {
        "id": "g3HMbRHrSINc",
        "colab_type": "code",
        "outputId": "7aef0c1a-b11d-4f43-80d8-bf9c928fdf21",
        "colab": {
          "base_uri": "https://localhost:8080/",
          "height": 35
        }
      },
      "source": [
        "len(resultsmax) # check the length of the results list to make sure we have the correct number of days"
      ],
      "execution_count": 27,
      "outputs": [
        {
          "output_type": "execute_result",
          "data": {
            "text/plain": [
              "3640"
            ]
          },
          "metadata": {
            "tags": []
          },
          "execution_count": 27
        }
      ]
    },
    {
      "cell_type": "code",
      "metadata": {
        "id": "g__oiMN8VQWU",
        "colab_type": "code",
        "outputId": "af1a34a8-9d0d-4b35-a19f-3aec974d313b",
        "colab": {
          "base_uri": "https://localhost:8080/",
          "height": 202
        }
      },
      "source": [
        "# Put the results in a pandas dataframe\n",
        "dfmax = pd.DataFrame(resultsmax)\n",
        "dfmax.tail()\n",
        "dfmin = pd.DataFrame(resultsmin)\n",
        "dfmin.tail()"
      ],
      "execution_count": 30,
      "outputs": [
        {
          "output_type": "execute_result",
          "data": {
            "text/html": [
              "<div>\n",
              "<style scoped>\n",
              "    .dataframe tbody tr th:only-of-type {\n",
              "        vertical-align: middle;\n",
              "    }\n",
              "\n",
              "    .dataframe tbody tr th {\n",
              "        vertical-align: top;\n",
              "    }\n",
              "\n",
              "    .dataframe thead th {\n",
              "        text-align: right;\n",
              "    }\n",
              "</style>\n",
              "<table border=\"1\" class=\"dataframe\">\n",
              "  <thead>\n",
              "    <tr style=\"text-align: right;\">\n",
              "      <th></th>\n",
              "      <th>date</th>\n",
              "      <th>datatype</th>\n",
              "      <th>station</th>\n",
              "      <th>attributes</th>\n",
              "      <th>value</th>\n",
              "    </tr>\n",
              "  </thead>\n",
              "  <tbody>\n",
              "    <tr>\n",
              "      <th>3635</th>\n",
              "      <td>1999-12-27T00:00:00</td>\n",
              "      <td>TMAX</td>\n",
              "      <td>GHCND:USW00014806</td>\n",
              "      <td>,,0,0700</td>\n",
              "      <td>-0.6</td>\n",
              "    </tr>\n",
              "    <tr>\n",
              "      <th>3636</th>\n",
              "      <td>1999-12-28T00:00:00</td>\n",
              "      <td>TMAX</td>\n",
              "      <td>GHCND:USW00014806</td>\n",
              "      <td>,,0,0700</td>\n",
              "      <td>10.6</td>\n",
              "    </tr>\n",
              "    <tr>\n",
              "      <th>3637</th>\n",
              "      <td>1999-12-29T00:00:00</td>\n",
              "      <td>TMAX</td>\n",
              "      <td>GHCND:USW00014806</td>\n",
              "      <td>,,0,0700</td>\n",
              "      <td>1.1</td>\n",
              "    </tr>\n",
              "    <tr>\n",
              "      <th>3638</th>\n",
              "      <td>1999-12-30T00:00:00</td>\n",
              "      <td>TMAX</td>\n",
              "      <td>GHCND:USW00014806</td>\n",
              "      <td>,,0,0700</td>\n",
              "      <td>2.2</td>\n",
              "    </tr>\n",
              "    <tr>\n",
              "      <th>3639</th>\n",
              "      <td>1999-12-31T00:00:00</td>\n",
              "      <td>TMAX</td>\n",
              "      <td>GHCND:USW00014806</td>\n",
              "      <td>,,0,0700</td>\n",
              "      <td>15.6</td>\n",
              "    </tr>\n",
              "  </tbody>\n",
              "</table>\n",
              "</div>"
            ],
            "text/plain": [
              "                     date datatype            station attributes  value\n",
              "3635  1999-12-27T00:00:00     TMAX  GHCND:USW00014806   ,,0,0700   -0.6\n",
              "3636  1999-12-28T00:00:00     TMAX  GHCND:USW00014806   ,,0,0700   10.6\n",
              "3637  1999-12-29T00:00:00     TMAX  GHCND:USW00014806   ,,0,0700    1.1\n",
              "3638  1999-12-30T00:00:00     TMAX  GHCND:USW00014806   ,,0,0700    2.2\n",
              "3639  1999-12-31T00:00:00     TMAX  GHCND:USW00014806   ,,0,0700   15.6"
            ]
          },
          "metadata": {
            "tags": []
          },
          "execution_count": 30
        }
      ]
    },
    {
      "cell_type": "code",
      "metadata": {
        "id": "uws28IlnWaw9",
        "colab_type": "code",
        "colab": {}
      },
      "source": [
        "###Rylan's code for getting Yearly Average Temperature goes here. ###"
      ],
      "execution_count": 0,
      "outputs": []
    },
    {
      "cell_type": "code",
      "metadata": {
        "id": "HDcOuL88XHFZ",
        "colab_type": "code",
        "colab": {}
      },
      "source": [
        "df.to_csv('Rantoul.csv')"
      ],
      "execution_count": 0,
      "outputs": []
    },
    {
      "cell_type": "code",
      "metadata": {
        "id": "LEiCojqpsO_a",
        "colab_type": "code",
        "colab": {}
      },
      "source": [
        "#Clean up the TMAX data frame\n",
        "#dfmax = pd.DataFrame(resultsmax)  # Uncomment to reset the data frame in case you mess up \n",
        "\n",
        "dfmax['date']= pd.to_datetime(dfmax['date']) \n",
        "dfmax.index = dfmax['date']\n",
        " \n",
        "del dfmax['datatype']\n",
        "del dfmax['station']\n",
        "del dfmax['attributes']\n",
        "#del df['date']\n",
        " \n",
        "dfmax.columns = ['date','TMAX']\n",
        "dfmax.to_csv('project2_data_TMAX')\n",
        " \n",
        "dfmax.head()"
      ],
      "execution_count": 0,
      "outputs": []
    },
    {
      "cell_type": "code",
      "metadata": {
        "id": "c1J5Xd-ONa2A",
        "colab_type": "code",
        "colab": {
          "base_uri": "https://localhost:8080/",
          "height": 233
        },
        "outputId": "fc2f985b-7b03-415f-d6e8-78f081091723"
      },
      "source": [
        "#Clean up the TMIN data frame\n",
        "#dfmin = pd.DataFrame(resultsmin)  # Uncomment to reset the data frame in case you mess up\n",
        "\n",
        "dfmin['date']= pd.to_datetime(dfmin['date']) \n",
        "dfmin.index = dfmin['date']\n",
        " \n",
        "del dfmin['datatype']\n",
        "del dfmin['station']\n",
        "del dfmin['attributes']\n",
        "#del df['date']\n",
        " \n",
        "dfmin.columns = ['date','TMIN']\n",
        "dfmin.to_csv('project2_data_TMIN')\n",
        " \n",
        "dfmin.head()"
      ],
      "execution_count": 35,
      "outputs": [
        {
          "output_type": "execute_result",
          "data": {
            "text/html": [
              "<div>\n",
              "<style scoped>\n",
              "    .dataframe tbody tr th:only-of-type {\n",
              "        vertical-align: middle;\n",
              "    }\n",
              "\n",
              "    .dataframe tbody tr th {\n",
              "        vertical-align: top;\n",
              "    }\n",
              "\n",
              "    .dataframe thead th {\n",
              "        text-align: right;\n",
              "    }\n",
              "</style>\n",
              "<table border=\"1\" class=\"dataframe\">\n",
              "  <thead>\n",
              "    <tr style=\"text-align: right;\">\n",
              "      <th></th>\n",
              "      <th>date</th>\n",
              "      <th>TMIN</th>\n",
              "    </tr>\n",
              "    <tr>\n",
              "      <th>date</th>\n",
              "      <th></th>\n",
              "      <th></th>\n",
              "    </tr>\n",
              "  </thead>\n",
              "  <tbody>\n",
              "    <tr>\n",
              "      <th>1990-01-01</th>\n",
              "      <td>1990-01-01</td>\n",
              "      <td>-5.6</td>\n",
              "    </tr>\n",
              "    <tr>\n",
              "      <th>1990-01-02</th>\n",
              "      <td>1990-01-02</td>\n",
              "      <td>-4.4</td>\n",
              "    </tr>\n",
              "    <tr>\n",
              "      <th>1990-01-03</th>\n",
              "      <td>1990-01-03</td>\n",
              "      <td>-0.6</td>\n",
              "    </tr>\n",
              "    <tr>\n",
              "      <th>1990-01-04</th>\n",
              "      <td>1990-01-04</td>\n",
              "      <td>-6.7</td>\n",
              "    </tr>\n",
              "    <tr>\n",
              "      <th>1990-01-05</th>\n",
              "      <td>1990-01-05</td>\n",
              "      <td>-5.6</td>\n",
              "    </tr>\n",
              "  </tbody>\n",
              "</table>\n",
              "</div>"
            ],
            "text/plain": [
              "                 date  TMIN\n",
              "date                       \n",
              "1990-01-01 1990-01-01  -5.6\n",
              "1990-01-02 1990-01-02  -4.4\n",
              "1990-01-03 1990-01-03  -0.6\n",
              "1990-01-04 1990-01-04  -6.7\n",
              "1990-01-05 1990-01-05  -5.6"
            ]
          },
          "metadata": {
            "tags": []
          },
          "execution_count": 35
        }
      ]
    },
    {
      "cell_type": "code",
      "metadata": {
        "id": "CbOiJhMmOpz3",
        "colab_type": "code",
        "colab": {
          "base_uri": "https://localhost:8080/",
          "height": 446
        },
        "outputId": "4ef8a90f-86f6-431e-d454-2207b470f053"
      },
      "source": [
        "dfboth = pd.merge(dfmax, dfmin, left_index=True, right_index=True)\n",
        "del dfboth['date_x']\n",
        "del dfboth['date_y']\n",
        "dfboth['TAVG'] = (dfboth['TMAX']+dfboth['TMIN'])/2.0\n",
        "del dfboth['TMAX']\n",
        "del dfboth['TMIN']\n",
        "dfboth"
      ],
      "execution_count": 41,
      "outputs": [
        {
          "output_type": "execute_result",
          "data": {
            "text/html": [
              "<div>\n",
              "<style scoped>\n",
              "    .dataframe tbody tr th:only-of-type {\n",
              "        vertical-align: middle;\n",
              "    }\n",
              "\n",
              "    .dataframe tbody tr th {\n",
              "        vertical-align: top;\n",
              "    }\n",
              "\n",
              "    .dataframe thead th {\n",
              "        text-align: right;\n",
              "    }\n",
              "</style>\n",
              "<table border=\"1\" class=\"dataframe\">\n",
              "  <thead>\n",
              "    <tr style=\"text-align: right;\">\n",
              "      <th></th>\n",
              "      <th>TAVG</th>\n",
              "    </tr>\n",
              "    <tr>\n",
              "      <th>date</th>\n",
              "      <th></th>\n",
              "    </tr>\n",
              "  </thead>\n",
              "  <tbody>\n",
              "    <tr>\n",
              "      <th>1990-01-01</th>\n",
              "      <td>-3.35</td>\n",
              "    </tr>\n",
              "    <tr>\n",
              "      <th>1990-01-02</th>\n",
              "      <td>0.00</td>\n",
              "    </tr>\n",
              "    <tr>\n",
              "      <th>1990-01-03</th>\n",
              "      <td>4.70</td>\n",
              "    </tr>\n",
              "    <tr>\n",
              "      <th>1990-01-04</th>\n",
              "      <td>1.10</td>\n",
              "    </tr>\n",
              "    <tr>\n",
              "      <th>1990-01-05</th>\n",
              "      <td>-1.95</td>\n",
              "    </tr>\n",
              "    <tr>\n",
              "      <th>...</th>\n",
              "      <td>...</td>\n",
              "    </tr>\n",
              "    <tr>\n",
              "      <th>1999-12-27</th>\n",
              "      <td>-7.50</td>\n",
              "    </tr>\n",
              "    <tr>\n",
              "      <th>1999-12-28</th>\n",
              "      <td>-3.30</td>\n",
              "    </tr>\n",
              "    <tr>\n",
              "      <th>1999-12-29</th>\n",
              "      <td>-3.05</td>\n",
              "    </tr>\n",
              "    <tr>\n",
              "      <th>1999-12-30</th>\n",
              "      <td>-1.10</td>\n",
              "    </tr>\n",
              "    <tr>\n",
              "      <th>1999-12-31</th>\n",
              "      <td>4.20</td>\n",
              "    </tr>\n",
              "  </tbody>\n",
              "</table>\n",
              "<p>3640 rows × 1 columns</p>\n",
              "</div>"
            ],
            "text/plain": [
              "            TAVG\n",
              "date            \n",
              "1990-01-01 -3.35\n",
              "1990-01-02  0.00\n",
              "1990-01-03  4.70\n",
              "1990-01-04  1.10\n",
              "1990-01-05 -1.95\n",
              "...          ...\n",
              "1999-12-27 -7.50\n",
              "1999-12-28 -3.30\n",
              "1999-12-29 -3.05\n",
              "1999-12-30 -1.10\n",
              "1999-12-31  4.20\n",
              "\n",
              "[3640 rows x 1 columns]"
            ]
          },
          "metadata": {
            "tags": []
          },
          "execution_count": 41
        }
      ]
    },
    {
      "cell_type": "code",
      "metadata": {
        "id": "BnlE6HkIsRZM",
        "colab_type": "code",
        "outputId": "f1ac0ebb-d9e6-467c-ab98-872b1f53d748",
        "colab": {
          "base_uri": "https://localhost:8080/",
          "height": 386
        }
      },
      "source": [
        "\n",
        "df = dfboth.groupby(pd.Grouper(freq='Y')).mean()\n",
        "df.index = pd.to_datetime(df.index, format='%Y-%m-%d').year\n",
        "df.columns = ['Yearly Average Temperature']\n",
        "df['Anomalies'] = (df['Yearly Average Temperature'] - df['Yearly Average Temperature'].mean())\n",
        "df\n",
        "\n",
        "#df = dfboth.groupby(pd.Grouper(freq='M')).mean()\n",
        "#df.index = pd.to_datetime(df.index, format='%Y-%m-%d').year\n",
        "#df.columns = ['Monthly Average Temperature']\n",
        "#df['Anomalies'] = (df['Monthly Average Temperature'] - df['Monthly Average Temperature'].mean())\n",
        "#df"
      ],
      "execution_count": 44,
      "outputs": [
        {
          "output_type": "execute_result",
          "data": {
            "text/html": [
              "<div>\n",
              "<style scoped>\n",
              "    .dataframe tbody tr th:only-of-type {\n",
              "        vertical-align: middle;\n",
              "    }\n",
              "\n",
              "    .dataframe tbody tr th {\n",
              "        vertical-align: top;\n",
              "    }\n",
              "\n",
              "    .dataframe thead th {\n",
              "        text-align: right;\n",
              "    }\n",
              "</style>\n",
              "<table border=\"1\" class=\"dataframe\">\n",
              "  <thead>\n",
              "    <tr style=\"text-align: right;\">\n",
              "      <th></th>\n",
              "      <th>Yearly Average Temperature</th>\n",
              "      <th>Anomalies</th>\n",
              "    </tr>\n",
              "    <tr>\n",
              "      <th>date</th>\n",
              "      <th></th>\n",
              "      <th></th>\n",
              "    </tr>\n",
              "  </thead>\n",
              "  <tbody>\n",
              "    <tr>\n",
              "      <th>1990</th>\n",
              "      <td>11.172192</td>\n",
              "      <td>0.234778</td>\n",
              "    </tr>\n",
              "    <tr>\n",
              "      <th>1991</th>\n",
              "      <td>12.347397</td>\n",
              "      <td>1.409983</td>\n",
              "    </tr>\n",
              "    <tr>\n",
              "      <th>1992</th>\n",
              "      <td>10.807576</td>\n",
              "      <td>-0.129838</td>\n",
              "    </tr>\n",
              "    <tr>\n",
              "      <th>1993</th>\n",
              "      <td>10.563056</td>\n",
              "      <td>-0.374358</td>\n",
              "    </tr>\n",
              "    <tr>\n",
              "      <th>1994</th>\n",
              "      <td>10.565342</td>\n",
              "      <td>-0.372071</td>\n",
              "    </tr>\n",
              "    <tr>\n",
              "      <th>1995</th>\n",
              "      <td>10.938874</td>\n",
              "      <td>0.001460</td>\n",
              "    </tr>\n",
              "    <tr>\n",
              "      <th>1996</th>\n",
              "      <td>9.592760</td>\n",
              "      <td>-1.344654</td>\n",
              "    </tr>\n",
              "    <tr>\n",
              "      <th>1997</th>\n",
              "      <td>9.962637</td>\n",
              "      <td>-0.974776</td>\n",
              "    </tr>\n",
              "    <tr>\n",
              "      <th>1998</th>\n",
              "      <td>12.185537</td>\n",
              "      <td>1.248123</td>\n",
              "    </tr>\n",
              "    <tr>\n",
              "      <th>1999</th>\n",
              "      <td>11.238767</td>\n",
              "      <td>0.301353</td>\n",
              "    </tr>\n",
              "  </tbody>\n",
              "</table>\n",
              "</div>"
            ],
            "text/plain": [
              "      Yearly Average Temperature  Anomalies\n",
              "date                                       \n",
              "1990                   11.172192   0.234778\n",
              "1991                   12.347397   1.409983\n",
              "1992                   10.807576  -0.129838\n",
              "1993                   10.563056  -0.374358\n",
              "1994                   10.565342  -0.372071\n",
              "1995                   10.938874   0.001460\n",
              "1996                    9.592760  -1.344654\n",
              "1997                    9.962637  -0.974776\n",
              "1998                   12.185537   1.248123\n",
              "1999                   11.238767   0.301353"
            ]
          },
          "metadata": {
            "tags": []
          },
          "execution_count": 44
        }
      ]
    },
    {
      "cell_type": "code",
      "metadata": {
        "id": "gVY0MaUqvcBd",
        "colab_type": "code",
        "outputId": "588fdee9-2376-408e-82b9-390a6551ff53",
        "colab": {
          "base_uri": "https://localhost:8080/",
          "height": 52
        }
      },
      "source": [
        "# A cell for quickly cheking the min and max anomalies for color scale purposes.\n",
        "\n",
        "print(min(df['Anomalies'].values))\n",
        "print(max(df['Anomalies'].values))"
      ],
      "execution_count": 45,
      "outputs": [
        {
          "output_type": "stream",
          "text": [
            "-1.3446542056788129\n",
            "1.4099834917536196\n"
          ],
          "name": "stdout"
        }
      ]
    },
    {
      "cell_type": "code",
      "metadata": {
        "id": "e7eEbG2_yot0",
        "colab_type": "code",
        "outputId": "516b4667-404c-4ba9-f920-322462581c6b",
        "colab": {
          "base_uri": "https://localhost:8080/",
          "height": 183
        }
      },
      "source": [
        "import matplotlib.pyplot as plt\n",
        "\n",
        "plt.figure(figsize=(12,5))\n",
        "\n",
        "#df['Anomalies'].values\n",
        "ax = plt.matshow(df['Anomalies'][np.newaxis,:], cmap='coolwarm', aspect = 'auto', vmin = -2, vmax = 2)\n",
        "ax.axes.get_yaxis().set_visible(False)\n",
        "#ax.axes.set_xticklabels(yearstoget[0::10])\n",
        "ax.axes.tick_params(axis=\"x\", bottom=True, top=False, labelbottom=True, labeltop=False)\n",
        "#ax.axes.set_xlim(left = 0, right = len(yearstoget)-1)\n",
        "\n",
        "#x_pos = np.arange(len(df['Anomalies']))\n",
        "#plt.xticks(yearstoget)\n",
        "ax2 = plt.twinx()\n",
        "ax2.plot(np.arange(0,(len(yearstoget))), df['Yearly Average Temperature'], color = 'black')\n",
        "ax2.plot(np.arange(0,(len(yearstoget))), df['Yearly Average Temperature'], 'ko')\n",
        "ax2.axes.set_ylabel('Average annual \\n maximum temperature \\n (deg C)')\n",
        "\n",
        "plt.show()"
      ],
      "execution_count": 48,
      "outputs": [
        {
          "output_type": "display_data",
          "data": {
            "text/plain": [
              "<Figure size 864x360 with 0 Axes>"
            ]
          },
          "metadata": {
            "tags": []
          }
        },
        {
          "output_type": "display_data",
          "data": {
            "image/png": "[encoded data removed]",
            "text/plain": [
              "<Figure size 1152x144 with 2 Axes>"
            ]
          },
          "metadata": {
            "tags": []
          }
        }
      ]
    },
    {
      "cell_type": "code",
      "metadata": {
        "id": "zx9-RWgpLLD1",
        "colab_type": "code",
        "colab": {}
      },
      "source": [
        ""
      ],
      "execution_count": 0,
      "outputs": []
    }
  ]
}
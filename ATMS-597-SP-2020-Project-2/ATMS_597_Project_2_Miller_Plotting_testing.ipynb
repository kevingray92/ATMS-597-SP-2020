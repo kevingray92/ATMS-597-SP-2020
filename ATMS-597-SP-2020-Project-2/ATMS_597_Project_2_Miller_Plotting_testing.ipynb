{
  "nbformat": 4,
  "nbformat_minor": 0,
  "metadata": {
    "colab": {
      "name": "ATMS_597_Project_2_Miller_Plotting_Attempt.ipynb",
      "provenance": [],
      "collapsed_sections": [],
      "include_colab_link": true
    },
    "kernelspec": {
      "name": "python3",
      "display_name": "Python 3"
    }
  },
  "cells": [
    {
      "cell_type": "markdown",
      "metadata": {
        "id": "view-in-github",
        "colab_type": "text"
      },
      "source": [
        "<a href=\"https://colab.research.google.com/github/kevingray92/ATMS-597-SP-2020/blob/patch-2/ATMS-597-SP-2020-Project-2/ATMS_597_Project_2_Miller_Plotting_testing.ipynb\" target=\"_parent\"><img src=\"https://colab.research.google.com/assets/colab-badge.svg\" alt=\"Open In Colab\"/></a>"
      ]
    },
    {
      "cell_type": "code",
      "metadata": {
        "id": "7YeS_LAAa4nY",
        "colab_type": "code",
        "colab": {}
      },
      "source": [
        "import numpy as np\n",
        "import pandas as pd\n",
        "import datetime"
      ],
      "execution_count": 0,
      "outputs": []
    },
    {
      "cell_type": "code",
      "metadata": {
        "id": "yyUl1qCsNWzH",
        "colab_type": "code",
        "colab": {}
      },
      "source": [
        "import requests\n",
        "\n",
        "def make_request(endpoint, payload=None):\n",
        "    \"\"\"\n",
        "    Make a request to a specific endpoint on the weather API\n",
        "    passing headers and optional payload.\n",
        "    \n",
        "    Parameters:\n",
        "        - endpoint: The endpoint of the API you want to \n",
        "                    make a GET request to.\n",
        "        - payload: A dictionary of data to pass along \n",
        "                   with the request.\n",
        "    \n",
        "    Returns:\n",
        "        Response object.\n",
        "    \"\"\"\n",
        "    return requests.get(\n",
        "        f'https://www.ncdc.noaa.gov/cdo-web/api/v2/'+endpoint,\n",
        "        headers={\n",
        "            'token': 'yicVcIaiwUAgtBveaBtWSaioiQvqRJRh'\n",
        "        },\n",
        "        params=payload\n",
        "    )"
      ],
      "execution_count": 0,
      "outputs": []
    },
    {
      "cell_type": "code",
      "metadata": {
        "id": "MfRz-6U-718K",
        "colab_type": "code",
        "colab": {}
      },
      "source": [
        "# This cell will request locations. We used this to find the locationid for Champaign, IL area.\n",
        "# !!!No need to run this cell again unless we want to look up a new locationid!!!\n",
        "\n",
        "response = make_request(\n",
        "    'locations', \n",
        "    {\n",
        "        'datasetid' : 'GHCND', \n",
        "        'locationcategoryid' : 'CITY',\n",
        "        'datacategoryid' : 'TEMP',\n",
        "        'sortorder' : 'desc',\n",
        "        'limit' : 1000 # max allowed\n",
        "    }\n",
        ")\n",
        "response.json()"
      ],
      "execution_count": 0,
      "outputs": []
    },
    {
      "cell_type": "code",
      "metadata": {
        "id": "ApHTPiIx5jEE",
        "colab_type": "code",
        "colab": {}
      },
      "source": [
        "# This cell will request stations. We used this to find the stationid for Rantoul, IL station.\n",
        "# !!!No need to run this cell again unless we want to look up a new stationid!!!\n",
        "\n",
        "response = make_request(\n",
        "    'stations', \n",
        "    {\n",
        "        'datasetid' : 'GHCND',\n",
        "        'locationid' : 'CITY:US170004', \n",
        "        'datacategoryid' : 'TEMP',\n",
        "        'limit' : 1000 # max allowed\n",
        "    }\n",
        ")\n",
        "response.json()"
      ],
      "execution_count": 0,
      "outputs": []
    },
    {
      "cell_type": "code",
      "metadata": {
        "id": "853uzLN1S2Ox",
        "colab_type": "code",
        "colab": {}
      },
      "source": [
        "# Create lists containing the beginning and end of years we want to loop over.\n",
        "\n",
        "yearstoget = np.arange(1949,2020)\n",
        "currentlist = []\n",
        "endlist = []\n",
        "for i in yearstoget:\n",
        "    currentlist.append(datetime.date(i, 1, 1))\n",
        "    endlist.append(datetime.date(i, 12, 31))"
      ],
      "execution_count": 0,
      "outputs": []
    },
    {
      "cell_type": "code",
      "metadata": {
        "id": "f-TEFfTcKXQu",
        "colab_type": "code",
        "colab": {}
      },
      "source": [
        "# This cell will request the data\n",
        "\n",
        "results = [] # get an empty list to fill with data\n",
        "numloops = np.arange(len(currentlist)) # fill a numpy array with the length of the list of years we want\n",
        "\n",
        "#Start the loop over the years we want\n",
        "for i in numloops:\n",
        "    current = currentlist[i] # set current to the beginning of the year in our loop\n",
        "    end = endlist[i] # set end to the end of the year in our loop\n",
        "    # update the cell with status information\n",
        "    #display.clear_output(wait=True)\n",
        "    #display.display(f'Gathering data for {str(current)}')\n",
        "    response = make_request(\n",
        "        'data', \n",
        "        {\n",
        "            'datasetid' : 'GHCND', # Global Historical Climatology Network - Daily (GHCND) dataset\n",
        "            'datatypeid' : 'TMAX',\n",
        "            'stationid' : 'GHCND:USW00014806',\n",
        "            'startdate' : current,\n",
        "            'enddate' : end,\n",
        "            'units' : 'metric',\n",
        "            'limit' : 1000 # max allowed\n",
        "        }\n",
        "    )\n",
        "    response.json()\n",
        "    results.extend(response.json()['results']) # put the data in the results list"
      ],
      "execution_count": 0,
      "outputs": []
    },
    {
      "cell_type": "code",
      "metadata": {
        "id": "g3HMbRHrSINc",
        "colab_type": "code",
        "outputId": "e4b741b3-7981-44c5-c285-69992aeae8cd",
        "colab": {
          "base_uri": "https://localhost:8080/",
          "height": 35
        }
      },
      "source": [
        "len(results) # check the length of the results list to make sure we have the correct number of days"
      ],
      "execution_count": 5,
      "outputs": [
        {
          "output_type": "execute_result",
          "data": {
            "text/plain": [
              "25399"
            ]
          },
          "metadata": {
            "tags": []
          },
          "execution_count": 5
        }
      ]
    },
    {
      "cell_type": "code",
      "metadata": {
        "id": "g__oiMN8VQWU",
        "colab_type": "code",
        "outputId": "cef51645-503e-49fa-d911-d21520aa813a",
        "colab": {
          "base_uri": "https://localhost:8080/",
          "height": 202
        }
      },
      "source": [
        "# Put the results in a pandas dataframe\n",
        "df = pd.DataFrame(results)\n",
        "df.tail()"
      ],
      "execution_count": 6,
      "outputs": [
        {
          "output_type": "execute_result",
          "data": {
            "text/html": [
              "<div>\n",
              "<style scoped>\n",
              "    .dataframe tbody tr th:only-of-type {\n",
              "        vertical-align: middle;\n",
              "    }\n",
              "\n",
              "    .dataframe tbody tr th {\n",
              "        vertical-align: top;\n",
              "    }\n",
              "\n",
              "    .dataframe thead th {\n",
              "        text-align: right;\n",
              "    }\n",
              "</style>\n",
              "<table border=\"1\" class=\"dataframe\">\n",
              "  <thead>\n",
              "    <tr style=\"text-align: right;\">\n",
              "      <th></th>\n",
              "      <th>date</th>\n",
              "      <th>datatype</th>\n",
              "      <th>station</th>\n",
              "      <th>attributes</th>\n",
              "      <th>value</th>\n",
              "    </tr>\n",
              "  </thead>\n",
              "  <tbody>\n",
              "    <tr>\n",
              "      <th>25394</th>\n",
              "      <td>2019-12-27T00:00:00</td>\n",
              "      <td>TMAX</td>\n",
              "      <td>GHCND:USW00014806</td>\n",
              "      <td>,,7,0700</td>\n",
              "      <td>6.1</td>\n",
              "    </tr>\n",
              "    <tr>\n",
              "      <th>25395</th>\n",
              "      <td>2019-12-28T00:00:00</td>\n",
              "      <td>TMAX</td>\n",
              "      <td>GHCND:USW00014806</td>\n",
              "      <td>,,7,0700</td>\n",
              "      <td>13.3</td>\n",
              "    </tr>\n",
              "    <tr>\n",
              "      <th>25396</th>\n",
              "      <td>2019-12-29T00:00:00</td>\n",
              "      <td>TMAX</td>\n",
              "      <td>GHCND:USW00014806</td>\n",
              "      <td>,,7,0700</td>\n",
              "      <td>15.0</td>\n",
              "    </tr>\n",
              "    <tr>\n",
              "      <th>25397</th>\n",
              "      <td>2019-12-30T00:00:00</td>\n",
              "      <td>TMAX</td>\n",
              "      <td>GHCND:USW00014806</td>\n",
              "      <td>,,7,0700</td>\n",
              "      <td>3.9</td>\n",
              "    </tr>\n",
              "    <tr>\n",
              "      <th>25398</th>\n",
              "      <td>2019-12-31T00:00:00</td>\n",
              "      <td>TMAX</td>\n",
              "      <td>GHCND:USW00014806</td>\n",
              "      <td>,,7,0700</td>\n",
              "      <td>0.6</td>\n",
              "    </tr>\n",
              "  </tbody>\n",
              "</table>\n",
              "</div>"
            ],
            "text/plain": [
              "                      date datatype            station attributes  value\n",
              "25394  2019-12-27T00:00:00     TMAX  GHCND:USW00014806   ,,7,0700    6.1\n",
              "25395  2019-12-28T00:00:00     TMAX  GHCND:USW00014806   ,,7,0700   13.3\n",
              "25396  2019-12-29T00:00:00     TMAX  GHCND:USW00014806   ,,7,0700   15.0\n",
              "25397  2019-12-30T00:00:00     TMAX  GHCND:USW00014806   ,,7,0700    3.9\n",
              "25398  2019-12-31T00:00:00     TMAX  GHCND:USW00014806   ,,7,0700    0.6"
            ]
          },
          "metadata": {
            "tags": []
          },
          "execution_count": 6
        }
      ]
    },
    {
      "cell_type": "code",
      "metadata": {
        "id": "uws28IlnWaw9",
        "colab_type": "code",
        "colab": {}
      },
      "source": [
        "###Rylan's code for getting Yearly Average Temperature goes here. ###"
      ],
      "execution_count": 0,
      "outputs": []
    },
    {
      "cell_type": "code",
      "metadata": {
        "id": "HDcOuL88XHFZ",
        "colab_type": "code",
        "colab": {}
      },
      "source": [
        "df.to_csv('Rantoul.csv')"
      ],
      "execution_count": 0,
      "outputs": []
    },
    {
      "cell_type": "code",
      "metadata": {
        "id": "LEiCojqpsO_a",
        "colab_type": "code",
        "outputId": "9a0557fb-f3bc-4ee6-86c8-84c6e7765a63",
        "colab": {
          "base_uri": "https://localhost:8080/",
          "height": 233
        }
      },
      "source": [
        "\n",
        "df = pd.DataFrame(results)\n",
        " \n",
        "df['date']= pd.to_datetime(df['date']) \n",
        "df.index = df['date']\n",
        " \n",
        "del df['datatype']\n",
        "del df['station']\n",
        "del df['attributes']\n",
        "#del df['date']\n",
        " \n",
        "df.columns = ['date','TMAX']\n",
        "df.to_csv('project2_data_TMAX')\n",
        " \n",
        "df.head()"
      ],
      "execution_count": 9,
      "outputs": [
        {
          "output_type": "execute_result",
          "data": {
            "text/html": [
              "<div>\n",
              "<style scoped>\n",
              "    .dataframe tbody tr th:only-of-type {\n",
              "        vertical-align: middle;\n",
              "    }\n",
              "\n",
              "    .dataframe tbody tr th {\n",
              "        vertical-align: top;\n",
              "    }\n",
              "\n",
              "    .dataframe thead th {\n",
              "        text-align: right;\n",
              "    }\n",
              "</style>\n",
              "<table border=\"1\" class=\"dataframe\">\n",
              "  <thead>\n",
              "    <tr style=\"text-align: right;\">\n",
              "      <th></th>\n",
              "      <th>date</th>\n",
              "      <th>TMAX</th>\n",
              "    </tr>\n",
              "    <tr>\n",
              "      <th>date</th>\n",
              "      <th></th>\n",
              "      <th></th>\n",
              "    </tr>\n",
              "  </thead>\n",
              "  <tbody>\n",
              "    <tr>\n",
              "      <th>1949-01-01</th>\n",
              "      <td>1949-01-01</td>\n",
              "      <td>-0.6</td>\n",
              "    </tr>\n",
              "    <tr>\n",
              "      <th>1949-01-02</th>\n",
              "      <td>1949-01-02</td>\n",
              "      <td>2.8</td>\n",
              "    </tr>\n",
              "    <tr>\n",
              "      <th>1949-01-03</th>\n",
              "      <td>1949-01-03</td>\n",
              "      <td>4.4</td>\n",
              "    </tr>\n",
              "    <tr>\n",
              "      <th>1949-01-04</th>\n",
              "      <td>1949-01-04</td>\n",
              "      <td>10.0</td>\n",
              "    </tr>\n",
              "    <tr>\n",
              "      <th>1949-01-05</th>\n",
              "      <td>1949-01-05</td>\n",
              "      <td>4.4</td>\n",
              "    </tr>\n",
              "  </tbody>\n",
              "</table>\n",
              "</div>"
            ],
            "text/plain": [
              "                 date  TMAX\n",
              "date                       \n",
              "1949-01-01 1949-01-01  -0.6\n",
              "1949-01-02 1949-01-02   2.8\n",
              "1949-01-03 1949-01-03   4.4\n",
              "1949-01-04 1949-01-04  10.0\n",
              "1949-01-05 1949-01-05   4.4"
            ]
          },
          "metadata": {
            "tags": []
          },
          "execution_count": 9
        }
      ]
    },
    {
      "cell_type": "code",
      "metadata": {
        "id": "BnlE6HkIsRZM",
        "colab_type": "code",
        "outputId": "ff632eeb-e813-40b7-d433-7d55741b876c",
        "colab": {
          "base_uri": "https://localhost:8080/",
          "height": 446
        }
      },
      "source": [
        "\n",
        "#df = df.groupby(pd.Grouper(freq='Y')).mean()\n",
        "#df.index = pd.to_datetime(df.index, format='%Y-%m-%d').year\n",
        "#df.columns = ['Yearly Average Temperature']\n",
        "#df['Anomalies'] = (df['Yearly Average Temperature'] - df['Yearly Average Temperature'].mean())\n",
        "#df\n",
        "\n",
        "df = df.groupby(pd.Grouper(freq='M')).mean()\n",
        "df.index = pd.to_datetime(df.index, format='%Y-%m-%d').year\n",
        "df.columns = ['Monthly Average Temperature']\n",
        "df['Anomalies'] = (df['Monthly Average Temperature'] - df['Monthly Average Temperature'].mean())\n",
        "df"
      ],
      "execution_count": 10,
      "outputs": [
        {
          "output_type": "execute_result",
          "data": {
            "text/html": [
              "<div>\n",
              "<style scoped>\n",
              "    .dataframe tbody tr th:only-of-type {\n",
              "        vertical-align: middle;\n",
              "    }\n",
              "\n",
              "    .dataframe tbody tr th {\n",
              "        vertical-align: top;\n",
              "    }\n",
              "\n",
              "    .dataframe thead th {\n",
              "        text-align: right;\n",
              "    }\n",
              "</style>\n",
              "<table border=\"1\" class=\"dataframe\">\n",
              "  <thead>\n",
              "    <tr style=\"text-align: right;\">\n",
              "      <th></th>\n",
              "      <th>Monthly Average Temperature</th>\n",
              "      <th>Anomalies</th>\n",
              "    </tr>\n",
              "    <tr>\n",
              "      <th>date</th>\n",
              "      <th></th>\n",
              "      <th></th>\n",
              "    </tr>\n",
              "  </thead>\n",
              "  <tbody>\n",
              "    <tr>\n",
              "      <th>1949</th>\n",
              "      <td>2.683871</td>\n",
              "      <td>-14.025988</td>\n",
              "    </tr>\n",
              "    <tr>\n",
              "      <th>1949</th>\n",
              "      <td>4.185714</td>\n",
              "      <td>-12.524144</td>\n",
              "    </tr>\n",
              "    <tr>\n",
              "      <th>1949</th>\n",
              "      <td>9.622581</td>\n",
              "      <td>-7.087278</td>\n",
              "    </tr>\n",
              "    <tr>\n",
              "      <th>1949</th>\n",
              "      <td>16.066667</td>\n",
              "      <td>-0.643192</td>\n",
              "    </tr>\n",
              "    <tr>\n",
              "      <th>1949</th>\n",
              "      <td>24.245161</td>\n",
              "      <td>7.535303</td>\n",
              "    </tr>\n",
              "    <tr>\n",
              "      <th>...</th>\n",
              "      <td>...</td>\n",
              "      <td>...</td>\n",
              "    </tr>\n",
              "    <tr>\n",
              "      <th>2019</th>\n",
              "      <td>27.816129</td>\n",
              "      <td>11.106270</td>\n",
              "    </tr>\n",
              "    <tr>\n",
              "      <th>2019</th>\n",
              "      <td>28.286667</td>\n",
              "      <td>11.576808</td>\n",
              "    </tr>\n",
              "    <tr>\n",
              "      <th>2019</th>\n",
              "      <td>19.138710</td>\n",
              "      <td>2.428851</td>\n",
              "    </tr>\n",
              "    <tr>\n",
              "      <th>2019</th>\n",
              "      <td>7.203333</td>\n",
              "      <td>-9.506525</td>\n",
              "    </tr>\n",
              "    <tr>\n",
              "      <th>2019</th>\n",
              "      <td>5.970968</td>\n",
              "      <td>-10.738891</td>\n",
              "    </tr>\n",
              "  </tbody>\n",
              "</table>\n",
              "<p>852 rows × 2 columns</p>\n",
              "</div>"
            ],
            "text/plain": [
              "      Monthly Average Temperature  Anomalies\n",
              "date                                        \n",
              "1949                     2.683871 -14.025988\n",
              "1949                     4.185714 -12.524144\n",
              "1949                     9.622581  -7.087278\n",
              "1949                    16.066667  -0.643192\n",
              "1949                    24.245161   7.535303\n",
              "...                           ...        ...\n",
              "2019                    27.816129  11.106270\n",
              "2019                    28.286667  11.576808\n",
              "2019                    19.138710   2.428851\n",
              "2019                     7.203333  -9.506525\n",
              "2019                     5.970968 -10.738891\n",
              "\n",
              "[852 rows x 2 columns]"
            ]
          },
          "metadata": {
            "tags": []
          },
          "execution_count": 10
        }
      ]
    },
    {
      "cell_type": "code",
      "metadata": {
        "id": "gVY0MaUqvcBd",
        "colab_type": "code",
        "outputId": "b6cb3d06-bd9a-4621-bd3b-d1860ba851ea",
        "colab": {
          "base_uri": "https://localhost:8080/",
          "height": 35
        }
      },
      "source": [
        "# A cell for quickly cheking the min and max anomalies for color scale purposes.\n",
        "\n",
        "min(df['Anomalies'].values)\n",
        "max(df['Anomalies'].values)"
      ],
      "execution_count": 11,
      "outputs": [
        {
          "output_type": "execute_result",
          "data": {
            "text/plain": [
              "18.144980064404486"
            ]
          },
          "metadata": {
            "tags": []
          },
          "execution_count": 11
        }
      ]
    },
    {
      "cell_type": "code",
      "metadata": {
        "id": "e7eEbG2_yot0",
        "colab_type": "code",
        "outputId": "2580af3a-d862-4790-be9d-8c1d9fab4fce",
        "colab": {
          "base_uri": "https://localhost:8080/",
          "height": 183
        }
      },
      "source": [
        "import matplotlib.pyplot as plt\n",
        "\n",
        "plt.figure(figsize=(12,5))\n",
        "\n",
        "#df['Anomalies'].values\n",
        "ax = plt.matshow(df['Anomalies'][np.newaxis,:], cmap='coolwarm', aspect = 'auto', vmin = -7, vmax = 7)\n",
        "ax.axes.get_yaxis().set_visible(False)\n",
        "#ax.axes.set_xticklabels(yearstoget[0::10])\n",
        "ax.axes.tick_params(axis=\"x\", bottom=True, top=False, labelbottom=True, labeltop=False)\n",
        "#ax.axes.set_xlim(left = 0, right = len(yearstoget)-1)\n",
        "\n",
        "#x_pos = np.arange(len(df['Anomalies']))\n",
        "#plt.xticks(yearstoget)\n",
        "ax2 = plt.twinx()\n",
        "ax2.plot(np.arange(0,(len(yearstoget))*12), df['Monthly Average Temperature'], color = 'black')\n",
        "ax2.plot(np.arange(0,(len(yearstoget))*12), df['Monthly Average Temperature'], 'ko')\n",
        "ax2.axes.set_ylabel('Average annual \\n maximum temperature \\n (deg C)')\n",
        "\n",
        "plt.show()"
      ],
      "execution_count": 17,
      "outputs": [
        {
          "output_type": "display_data",
          "data": {
            "text/plain": [
              "<Figure size 864x360 with 0 Axes>"
            ]
          },
          "metadata": {
            "tags": []
          }
        },
        {
          "output_type": "display_data",
          "data": {
            "image/png": "[encoded data removed]",
            "text/plain": [
              "<Figure size 1152x144 with 2 Axes>"
            ]
          },
          "metadata": {
            "tags": []
          }
        }
      ]
    },
    {
      "cell_type": "code",
      "metadata": {
        "id": "zx9-RWgpLLD1",
        "colab_type": "code",
        "colab": {}
      },
      "source": [
        ""
      ],
      "execution_count": 0,
      "outputs": []
    }
  ]
}
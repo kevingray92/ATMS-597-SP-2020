{
  "nbformat": 4,
  "nbformat_minor": 0,
  "metadata": {
    "colab": {
      "name": "ATMS 597- Project-2_Miller.ipynb",
      "provenance": [],
      "include_colab_link": true
    },
    "kernelspec": {
      "name": "python3",
      "display_name": "Python 3"
    }
  },
  "cells": [
    {
      "cell_type": "markdown",
      "metadata": {
        "id": "view-in-github",
        "colab_type": "text"
      },
      "source": [
        "<a href=\"https://colab.research.google.com/github/kevingray92/ATMS-597-SP-2020/blob/patch-1/ATMS-597-SP-2020-Project-2/ATMS_597_Project_2_Gray.ipynb\" target=\"_parent\"><img src=\"https://colab.research.google.com/assets/colab-badge.svg\" alt=\"Open In Colab\"/></a>"
      ]
    },
    {
      "cell_type": "code",
      "metadata": {
        "id": "yyUl1qCsNWzH",
        "colab_type": "code",
        "colab": {}
      },
      "source": [
        "import requests\n",
        "\n",
        "def make_request(endpoint, payload=None):\n",
        "    \"\"\"\n",
        "    Make a request to a specific endpoint on the weather API\n",
        "    passing headers and optional payload.\n",
        "    \n",
        "    Parameters:\n",
        "        - endpoint: The endpoint of the API you want to \n",
        "                    make a GET request to.\n",
        "        - payload: A dictionary of data to pass along \n",
        "                   with the request.\n",
        "    \n",
        "    Returns:\n",
        "        Response object.\n",
        "    \"\"\"\n",
        "    return requests.get(\n",
        "        f'https://www.ncdc.noaa.gov/cdo-web/api/v2/data',\n",
        "        headers={\n",
        "            'token': 'vqnLQeiBSuNfAVMcjmCbPyyHnppczzpZ'\n",
        "        },\n",
        "        params=payload\n",
        "    )"
      ],
      "execution_count": 0,
      "outputs": []
    },
    {
      "cell_type": "code",
      "metadata": {
        "id": "gN82VY8tH3TY",
        "colab_type": "code",
        "outputId": "a08bcbd0-c903-4098-9727-b74cb4aa7cee",
        "colab": {
          "base_uri": "https://localhost:8080/",
          "height": 35
        }
      },
      "source": [
        "import datetime\n",
        "from IPython import display # for updating the cell dynamically\n",
        "current = datetime.date(2018, 1, 1)\n",
        "end = datetime.date(2019, 1, 1)\n",
        "results = []\n",
        "while current < end:\n",
        "    # update the cell with status information\n",
        "    display.clear_output(wait=True)\n",
        "    display.display(f'Gathering data for {str(current)}')\n",
        "    response = make_request(\n",
        "        'data', \n",
        "        {\n",
        "            'datasetid' : 'GHCND', # Global Historical Climatology Network - Daily (GHCND) dataset\n",
        "            'datatypeid' : 'TMAX',\n",
        "            'locationid' : 'CITY:US360019', \n",
        "            'stationid' : 'GHCND:USC00280907',\n",
        "            'startdate' : current,\n",
        "            'enddate' : end,\n",
        "            'units' : 'metric',\n",
        "            'limit' : 1000 # max allowed\n",
        "        }\n",
        "    )\n",
        "    if response.ok:\n",
        "        # we extend the list instead of appending to avoid getting a nested list\n",
        "        results.extend(response.json()['results'])\n",
        "\n",
        "    # update the current date to avoid an infinite loop\n",
        "    current += datetime.timedelta(days=1)\n",
        "#response.json()"
      ],
      "execution_count": 66,
      "outputs": [
        {
          "output_type": "display_data",
          "data": {
            "text/plain": [
              "'Gathering data for 2018-12-31'"
            ]
          },
          "metadata": {
            "tags": []
          }
        }
      ]
    },
    {
      "cell_type": "code",
      "metadata": {
        "id": "cTKPVmXSG1pD",
        "colab_type": "code",
        "outputId": "50b2d8cb-6c25-4cc5-de90-36c0a2afb81f",
        "colab": {
          "base_uri": "https://localhost:8080/",
          "height": 202
        }
      },
      "source": [
        "import pandas as pd\n",
        "\n",
        "df = pd.DataFrame(results)\n",
        "df.head()"
      ],
      "execution_count": 67,
      "outputs": [
        {
          "output_type": "execute_result",
          "data": {
            "text/html": [
              "<div>\n",
              "<style scoped>\n",
              "    .dataframe tbody tr th:only-of-type {\n",
              "        vertical-align: middle;\n",
              "    }\n",
              "\n",
              "    .dataframe tbody tr th {\n",
              "        vertical-align: top;\n",
              "    }\n",
              "\n",
              "    .dataframe thead th {\n",
              "        text-align: right;\n",
              "    }\n",
              "</style>\n",
              "<table border=\"1\" class=\"dataframe\">\n",
              "  <thead>\n",
              "    <tr style=\"text-align: right;\">\n",
              "      <th></th>\n",
              "      <th>date</th>\n",
              "      <th>datatype</th>\n",
              "      <th>station</th>\n",
              "      <th>attributes</th>\n",
              "      <th>value</th>\n",
              "    </tr>\n",
              "  </thead>\n",
              "  <tbody>\n",
              "    <tr>\n",
              "      <th>0</th>\n",
              "      <td>2018-01-01T00:00:00</td>\n",
              "      <td>TMAX</td>\n",
              "      <td>GHCND:USC00280907</td>\n",
              "      <td>,,7,0700</td>\n",
              "      <td>-10.6</td>\n",
              "    </tr>\n",
              "    <tr>\n",
              "      <th>1</th>\n",
              "      <td>2018-01-02T00:00:00</td>\n",
              "      <td>TMAX</td>\n",
              "      <td>GHCND:USC00280907</td>\n",
              "      <td>,,7,0700</td>\n",
              "      <td>-8.3</td>\n",
              "    </tr>\n",
              "    <tr>\n",
              "      <th>2</th>\n",
              "      <td>2018-01-03T00:00:00</td>\n",
              "      <td>TMAX</td>\n",
              "      <td>GHCND:USC00280907</td>\n",
              "      <td>,,7,0700</td>\n",
              "      <td>-4.4</td>\n",
              "    </tr>\n",
              "    <tr>\n",
              "      <th>3</th>\n",
              "      <td>2018-01-04T00:00:00</td>\n",
              "      <td>TMAX</td>\n",
              "      <td>GHCND:USC00280907</td>\n",
              "      <td>,,7,0700</td>\n",
              "      <td>-2.8</td>\n",
              "    </tr>\n",
              "    <tr>\n",
              "      <th>4</th>\n",
              "      <td>2018-01-05T00:00:00</td>\n",
              "      <td>TMAX</td>\n",
              "      <td>GHCND:USC00280907</td>\n",
              "      <td>,,7,0700</td>\n",
              "      <td>-4.4</td>\n",
              "    </tr>\n",
              "  </tbody>\n",
              "</table>\n",
              "</div>"
            ],
            "text/plain": [
              "                  date datatype            station attributes  value\n",
              "0  2018-01-01T00:00:00     TMAX  GHCND:USC00280907   ,,7,0700  -10.6\n",
              "1  2018-01-02T00:00:00     TMAX  GHCND:USC00280907   ,,7,0700   -8.3\n",
              "2  2018-01-03T00:00:00     TMAX  GHCND:USC00280907   ,,7,0700   -4.4\n",
              "3  2018-01-04T00:00:00     TMAX  GHCND:USC00280907   ,,7,0700   -2.8\n",
              "4  2018-01-05T00:00:00     TMAX  GHCND:USC00280907   ,,7,0700   -4.4"
            ]
          },
          "metadata": {
            "tags": []
          },
          "execution_count": 67
        }
      ]
    },
    {
      "cell_type": "code",
      "metadata": {
        "id": "f-TEFfTcKXQu",
        "colab_type": "code",
        "colab": {}
      },
      "source": [
        ""
      ],
      "execution_count": 0,
      "outputs": []
    }
  ]
}
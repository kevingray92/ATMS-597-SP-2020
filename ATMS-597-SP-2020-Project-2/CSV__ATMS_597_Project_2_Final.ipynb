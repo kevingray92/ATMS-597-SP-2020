{
  "nbformat": 4,
  "nbformat_minor": 0,
  "metadata": {
    "colab": {
      "name": "CSV_ ATMS_597_Project_2_Final.ipynb",
      "provenance": [],
      "collapsed_sections": [
        "X8fglnAGhoNU",
        "JmEvRi-vhu3P"
      ],
      "include_colab_link": true
    },
    "kernelspec": {
      "name": "python3",
      "display_name": "Python 3"
    }
  },
  "cells": [
    {
      "cell_type": "markdown",
      "metadata": {
        "id": "view-in-github",
        "colab_type": "text"
      },
      "source": [
        "<a href=\"https://colab.research.google.com/github/kevingray92/ATMS-597-SP-2020/blob/patch-5/ATMS-597-SP-2020-Project-2/CSV__ATMS_597_Project_2_Final.ipynb\" target=\"_parent\"><img src=\"https://colab.research.google.com/assets/colab-badge.svg\" alt=\"Open In Colab\"/></a>"
      ]
    },
    {
      "cell_type": "markdown",
      "metadata": {
        "id": "8Va8AlrWiJQt",
        "colab_type": "text"
      },
      "source": [
        "### ATMS 597 Project 2: Making Climate Stripes\n",
        "Created by: Kevin Gray, Rylan Housenga, Rose Miller\n",
        " "
      ]
    },
    {
      "cell_type": "markdown",
      "metadata": {
        "id": "riv1K1gknBvF",
        "colab_type": "text"
      },
      "source": [
        "###Import packages"
      ]
    },
    {
      "cell_type": "code",
      "metadata": {
        "id": "xb93mRTfnEKf",
        "colab_type": "code",
        "colab": {}
      },
      "source": [
        "import numpy as np\n",
        "import pandas as pd\n",
        "import datetime\n",
        "import matplotlib.pyplot as plt"
      ],
      "execution_count": 0,
      "outputs": []
    },
    {
      "cell_type": "markdown",
      "metadata": {
        "id": "I9L5rOg5iR1j",
        "colab_type": "text"
      },
      "source": [
        "## Run API Request"
      ]
    },
    {
      "cell_type": "code",
      "metadata": {
        "id": "yyUl1qCsNWzH",
        "colab_type": "code",
        "colab": {}
      },
      "source": [
        "import requests\n",
        "\n",
        "def make_request(endpoint, payload=None):\n",
        "    \"\"\"\n",
        "    Make a request to a specific endpoint on the weather API\n",
        "    passing headers and optional payload.\n",
        "    \n",
        "    Parameters:\n",
        "        - endpoint: The endpoint of the API you want to \n",
        "                    make a GET request to.\n",
        "        - payload: A dictionary of data to pass along \n",
        "                   with the request.\n",
        "    \n",
        "    Returns:\n",
        "        Response object.\n",
        "    \"\"\"\n",
        "    return requests.get(\n",
        "        f'https://www.ncdc.noaa.gov/cdo-web/api/v2/'+endpoint,\n",
        "        headers={\n",
        "            'token': 'yicVcIaiwUAgtBveaBtWSaioiQvqRJRh'\n",
        "        },\n",
        "        params=payload\n",
        "    )"
      ],
      "execution_count": 0,
      "outputs": []
    },
    {
      "cell_type": "markdown",
      "metadata": {
        "id": "X8fglnAGhoNU",
        "colab_type": "text"
      },
      "source": [
        "### Cell to look up locationID"
      ]
    },
    {
      "cell_type": "code",
      "metadata": {
        "id": "MfRz-6U-718K",
        "colab_type": "code",
        "colab": {}
      },
      "source": [
        "### This cell will request locations. We used this to find the locationid for Champaign, IL area.\n",
        "# !!!No need to run this cell again unless we want to look up a new locationid!!!\n",
        "\n",
        "response = make_request(\n",
        "    'locations', \n",
        "    {\n",
        "        'datasetid' : 'GHCND', \n",
        "        'locationcategoryid' : 'CITY',\n",
        "        'datacategoryid' : 'TEMP',\n",
        "        'sortorder' : 'desc',\n",
        "        'limit' : 1000 # max allowed\n",
        "    }\n",
        ")\n",
        "response.json()"
      ],
      "execution_count": 0,
      "outputs": []
    },
    {
      "cell_type": "markdown",
      "metadata": {
        "id": "aGprE0DRiGlm",
        "colab_type": "text"
      },
      "source": [
        ""
      ]
    },
    {
      "cell_type": "markdown",
      "metadata": {
        "id": "JmEvRi-vhu3P",
        "colab_type": "text"
      },
      "source": [
        "### Cell to look up stationID"
      ]
    },
    {
      "cell_type": "code",
      "metadata": {
        "id": "ApHTPiIx5jEE",
        "colab_type": "code",
        "colab": {}
      },
      "source": [
        "# This cell will request stations. We used this to find the stationid for Rantoul, IL station.\n",
        "# !!!No need to run this cell again unless we want to look up a new stationid!!!\n",
        "\n",
        "response = make_request(\n",
        "    'stations', \n",
        "    {\n",
        "        'datasetid' : 'GHCND',\n",
        "        'locationid' : 'CITY:US170004', \n",
        "        'datacategoryid' : 'TEMP',\n",
        "        'limit' : 1000 # max allowed\n",
        "    }\n",
        ")\n",
        "response.json()"
      ],
      "execution_count": 0,
      "outputs": []
    },
    {
      "cell_type": "markdown",
      "metadata": {
        "id": "gKWxvWeih1Pv",
        "colab_type": "text"
      },
      "source": [
        "## Example of running data for Rantoul, IL"
      ]
    },
    {
      "cell_type": "code",
      "metadata": {
        "id": "853uzLN1S2Ox",
        "colab_type": "code",
        "colab": {}
      },
      "source": [
        "# Create lists containing the beginning and end of years we want to loop over.\n",
        "\n",
        "yearstoget = np.arange(1949,2020)\n",
        "currentlist = []\n",
        "endlist = []\n",
        "for i in yearstoget:\n",
        "    currentlist.append(datetime.date(i, 1, 1))\n",
        "    endlist.append(datetime.date(i, 12, 31))"
      ],
      "execution_count": 0,
      "outputs": []
    },
    {
      "cell_type": "code",
      "metadata": {
        "id": "f-TEFfTcKXQu",
        "colab_type": "code",
        "outputId": "2ad4fd28-614e-4599-ccde-5ae4097ecb97",
        "colab": {
          "base_uri": "https://localhost:8080/",
          "height": 1000
        }
      },
      "source": [
        "# This cell will request the data\n",
        "\n",
        "resultsmax = [] # get an empty list to fill with data\n",
        "numloops = np.arange(len(currentlist)) # fill a numpy array with the length of the list of years we want\n",
        "\n",
        "#Start the loop over the years we want\n",
        "for i in numloops:\n",
        "    print(currentlist[i])\n",
        "    current = currentlist[i] # set current to the beginning of the year in our loop\n",
        "    end = endlist[i] # set end to the end of the year in our loop\n",
        "    # update the cell with status information\n",
        "    #display.clear_output(wait=True)\n",
        "    #display.display(f'Gathering data for {str(current)}')\n",
        "    response = make_request(\n",
        "        'data', \n",
        "        {\n",
        "            'datasetid' : 'GHCND', # Global Historical Climatology Network - Daily (GHCND) dataset\n",
        "            'datatypeid' : 'TMAX',\n",
        "            'stationid' : 'GHCND:USW00014806',\n",
        "            'startdate' : current,\n",
        "            'enddate' : end,\n",
        "            'units' : 'metric',\n",
        "            'limit' : 1000 # max allowed\n",
        "        }\n",
        "    )\n",
        "    response.json()\n",
        "    resultsmax.extend(response.json()['results']) # put the data in the results list"
      ],
      "execution_count": 4,
      "outputs": [
        {
          "output_type": "stream",
          "text": [
            "1949-01-01\n",
            "1950-01-01\n",
            "1951-01-01\n",
            "1952-01-01\n",
            "1953-01-01\n",
            "1954-01-01\n",
            "1955-01-01\n",
            "1956-01-01\n",
            "1957-01-01\n",
            "1958-01-01\n",
            "1959-01-01\n",
            "1960-01-01\n",
            "1961-01-01\n",
            "1962-01-01\n",
            "1963-01-01\n",
            "1964-01-01\n",
            "1965-01-01\n",
            "1966-01-01\n",
            "1967-01-01\n",
            "1968-01-01\n",
            "1969-01-01\n",
            "1970-01-01\n",
            "1971-01-01\n",
            "1972-01-01\n",
            "1973-01-01\n",
            "1974-01-01\n",
            "1975-01-01\n",
            "1976-01-01\n",
            "1977-01-01\n",
            "1978-01-01\n",
            "1979-01-01\n",
            "1980-01-01\n",
            "1981-01-01\n",
            "1982-01-01\n",
            "1983-01-01\n",
            "1984-01-01\n",
            "1985-01-01\n",
            "1986-01-01\n",
            "1987-01-01\n",
            "1988-01-01\n",
            "1989-01-01\n",
            "1990-01-01\n",
            "1991-01-01\n",
            "1992-01-01\n",
            "1993-01-01\n",
            "1994-01-01\n",
            "1995-01-01\n",
            "1996-01-01\n",
            "1997-01-01\n",
            "1998-01-01\n",
            "1999-01-01\n",
            "2000-01-01\n",
            "2001-01-01\n",
            "2002-01-01\n",
            "2003-01-01\n",
            "2004-01-01\n",
            "2005-01-01\n",
            "2006-01-01\n",
            "2007-01-01\n",
            "2008-01-01\n",
            "2009-01-01\n",
            "2010-01-01\n",
            "2011-01-01\n",
            "2012-01-01\n",
            "2013-01-01\n",
            "2014-01-01\n",
            "2015-01-01\n",
            "2016-01-01\n",
            "2017-01-01\n",
            "2018-01-01\n",
            "2019-01-01\n"
          ],
          "name": "stdout"
        }
      ]
    },
    {
      "cell_type": "code",
      "metadata": {
        "id": "2byF79NvCSBr",
        "colab_type": "code",
        "outputId": "c08e2fd1-0f2e-4293-b881-97596776fe28",
        "colab": {
          "base_uri": "https://localhost:8080/",
          "height": 1000
        }
      },
      "source": [
        "# This cell will request the data\n",
        "\n",
        "resultsmin = [] # get an empty list to fill with data\n",
        "numloops = np.arange(len(currentlist)) # fill a numpy array with the length of the list of years we want\n",
        "\n",
        "#Start the loop over the years we want\n",
        "for i in numloops:\n",
        "    print(currentlist[i])\n",
        "    current = currentlist[i] # set current to the beginning of the year in our loop\n",
        "    end = endlist[i] # set end to the end of the year in our loop\n",
        "    # update the cell with status information\n",
        "    #display.clear_output(wait=True)\n",
        "    #display.display(f'Gathering data for {str(current)}')\n",
        "    response = make_request(\n",
        "        'data', \n",
        "        {\n",
        "            'datasetid' : 'GHCND', # Global Historical Climatology Network - Daily (GHCND) dataset\n",
        "            'datatypeid' : 'TMIN',\n",
        "            'stationid' : 'GHCND:USW00014806',\n",
        "            'startdate' : current,\n",
        "            'enddate' : end,\n",
        "            'units' : 'metric',\n",
        "            'limit' : 1000 # max allowed\n",
        "        }\n",
        "    )\n",
        "    response.json()\n",
        "    resultsmin.extend(response.json()['results']) # put the data in the results list"
      ],
      "execution_count": 5,
      "outputs": [
        {
          "output_type": "stream",
          "text": [
            "1949-01-01\n",
            "1950-01-01\n",
            "1951-01-01\n",
            "1952-01-01\n",
            "1953-01-01\n",
            "1954-01-01\n",
            "1955-01-01\n",
            "1956-01-01\n",
            "1957-01-01\n",
            "1958-01-01\n",
            "1959-01-01\n",
            "1960-01-01\n",
            "1961-01-01\n",
            "1962-01-01\n",
            "1963-01-01\n",
            "1964-01-01\n",
            "1965-01-01\n",
            "1966-01-01\n",
            "1967-01-01\n",
            "1968-01-01\n",
            "1969-01-01\n",
            "1970-01-01\n",
            "1971-01-01\n",
            "1972-01-01\n",
            "1973-01-01\n",
            "1974-01-01\n",
            "1975-01-01\n",
            "1976-01-01\n",
            "1977-01-01\n",
            "1978-01-01\n",
            "1979-01-01\n",
            "1980-01-01\n",
            "1981-01-01\n",
            "1982-01-01\n",
            "1983-01-01\n",
            "1984-01-01\n",
            "1985-01-01\n",
            "1986-01-01\n",
            "1987-01-01\n",
            "1988-01-01\n",
            "1989-01-01\n",
            "1990-01-01\n",
            "1991-01-01\n",
            "1992-01-01\n",
            "1993-01-01\n",
            "1994-01-01\n",
            "1995-01-01\n",
            "1996-01-01\n",
            "1997-01-01\n",
            "1998-01-01\n",
            "1999-01-01\n",
            "2000-01-01\n",
            "2001-01-01\n",
            "2002-01-01\n",
            "2003-01-01\n",
            "2004-01-01\n",
            "2005-01-01\n",
            "2006-01-01\n",
            "2007-01-01\n",
            "2008-01-01\n",
            "2009-01-01\n",
            "2010-01-01\n",
            "2011-01-01\n",
            "2012-01-01\n",
            "2013-01-01\n",
            "2014-01-01\n",
            "2015-01-01\n",
            "2016-01-01\n",
            "2017-01-01\n",
            "2018-01-01\n",
            "2019-01-01\n"
          ],
          "name": "stdout"
        }
      ]
    },
    {
      "cell_type": "code",
      "metadata": {
        "id": "g3HMbRHrSINc",
        "colab_type": "code",
        "outputId": "19b673c4-f7c1-4abf-91d7-804cdf0eb4b8",
        "colab": {
          "base_uri": "https://localhost:8080/",
          "height": 35
        }
      },
      "source": [
        "len(resultsmax) # check the length of the results list to make sure we have the correct number of days"
      ],
      "execution_count": 6,
      "outputs": [
        {
          "output_type": "execute_result",
          "data": {
            "text/plain": [
              "25399"
            ]
          },
          "metadata": {
            "tags": []
          },
          "execution_count": 6
        }
      ]
    },
    {
      "cell_type": "markdown",
      "metadata": {
        "id": "qLWKllqDkYMs",
        "colab_type": "text"
      },
      "source": [
        "## Creates dataframe with just Date and TAVG"
      ]
    },
    {
      "cell_type": "code",
      "metadata": {
        "id": "c1J5Xd-ONa2A",
        "colab_type": "code",
        "colab": {}
      },
      "source": [
        "# Put data imported into pandas DataFrames\n",
        " \n",
        "df = pd.DataFrame(resultsmax)\n",
        "df2 = pd.DataFrame(resultsmin)\n",
        " \n",
        "# Change date columns to datetime format and make those columns the index\n",
        "\n",
        "df['date']= pd.to_datetime(df['date']) \n",
        "df.index = df['date']\n",
        "df2['date']= pd.to_datetime(df2['date']) \n",
        "df2.index = df2['date']\n",
        "\n",
        "\n",
        "# Clean up dataframes\n",
        "del df['datatype']\n",
        "del df['station']\n",
        "del df['attributes']\n",
        "del df2['datatype']\n",
        "del df2['station']\n",
        "del df2['attributes']\n",
        "\n",
        "# Change column names\n",
        "df.columns = ['date','TMAX']\n",
        "df2.columns = ['date','TMIN']\n",
        "\n",
        "\n",
        "# Add TMIN column to TMAX dataframe & create a new column that displays the average temperature \n",
        "# We no longer need df2 since all of our data is now in one dataframe\n",
        "\n",
        "df['TMIN'] = df2['TMIN']\n",
        "df['TAVG'] = ((df['TMIN'] + df['TMAX'])/2)\n",
        "\n",
        "# Clean up new dataframe so only the index (date) and TAVG columns exist\n",
        "\n",
        "del df['TMAX']\n",
        "del df['TMIN']\n",
        "del df['date']\n",
        " \n",
        "df.head()\n",
        "\n",
        "# If you want a .csv with only date and TAVG, save it here:\n",
        "df.to_csv('Temp_avg_project_2.csv')\n"
      ],
      "execution_count": 0,
      "outputs": []
    },
    {
      "cell_type": "markdown",
      "metadata": {
        "id": "cQWLsNpdbRh7",
        "colab_type": "text"
      },
      "source": [
        "##Load a CSV file here. For Code Demo only"
      ]
    },
    {
      "cell_type": "code",
      "metadata": {
        "id": "COm8Ub_MbQuk",
        "colab_type": "code",
        "outputId": "130b46f8-a800-486c-c597-468d72f65b6b",
        "colab": {
          "base_uri": "https://localhost:8080/",
          "height": 35
        }
      },
      "source": [
        "import numpy as np\n",
        "import pandas as pd\n",
        "import datetime\n",
        "import matplotlib.pyplot as plt\n",
        "from google.colab import drive\n",
        "drive.mount('/content/gdrive')\n",
        "#change directory to the right spot\n",
        "import os \n",
        "os.chdir('/content/gdrive/My Drive/ATMS_597_Project_2_csv')"
      ],
      "execution_count": 4,
      "outputs": [
        {
          "output_type": "stream",
          "text": [
            "Drive already mounted at /content/gdrive; to attempt to forcibly remount, call drive.mount(\"/content/gdrive\", force_remount=True).\n"
          ],
          "name": "stdout"
        }
      ]
    },
    {
      "cell_type": "code",
      "metadata": {
        "id": "H7UDznRzbukU",
        "colab_type": "code",
        "outputId": "03c151b0-bc6d-4ee2-fef9-790e7c94242f",
        "colab": {
          "base_uri": "https://localhost:8080/",
          "height": 233
        }
      },
      "source": [
        "df = pd.read_csv('Temp_avg_project_2.csv')\n",
        "df['date']= pd.to_datetime(df['date']) \n",
        "df.index = df['date']\n",
        "del df['TMAX']\n",
        "del df['TMIN']\n",
        "del df['date.1']\n",
        "del df['date']\n",
        "df.tail()"
      ],
      "execution_count": 6,
      "outputs": [
        {
          "output_type": "execute_result",
          "data": {
            "text/html": [
              "<div>\n",
              "<style scoped>\n",
              "    .dataframe tbody tr th:only-of-type {\n",
              "        vertical-align: middle;\n",
              "    }\n",
              "\n",
              "    .dataframe tbody tr th {\n",
              "        vertical-align: top;\n",
              "    }\n",
              "\n",
              "    .dataframe thead th {\n",
              "        text-align: right;\n",
              "    }\n",
              "</style>\n",
              "<table border=\"1\" class=\"dataframe\">\n",
              "  <thead>\n",
              "    <tr style=\"text-align: right;\">\n",
              "      <th></th>\n",
              "      <th>TAVG</th>\n",
              "    </tr>\n",
              "    <tr>\n",
              "      <th>date</th>\n",
              "      <th></th>\n",
              "    </tr>\n",
              "  </thead>\n",
              "  <tbody>\n",
              "    <tr>\n",
              "      <th>1949-09-28</th>\n",
              "      <td>12.80</td>\n",
              "    </tr>\n",
              "    <tr>\n",
              "      <th>1949-09-29</th>\n",
              "      <td>9.45</td>\n",
              "    </tr>\n",
              "    <tr>\n",
              "      <th>1949-09-30</th>\n",
              "      <td>14.70</td>\n",
              "    </tr>\n",
              "    <tr>\n",
              "      <th>1949-10-01</th>\n",
              "      <td>15.85</td>\n",
              "    </tr>\n",
              "    <tr>\n",
              "      <th>1949-10-02</th>\n",
              "      <td>14.40</td>\n",
              "    </tr>\n",
              "  </tbody>\n",
              "</table>\n",
              "</div>"
            ],
            "text/plain": [
              "             TAVG\n",
              "date             \n",
              "1949-09-28  12.80\n",
              "1949-09-29   9.45\n",
              "1949-09-30  14.70\n",
              "1949-10-01  15.85\n",
              "1949-10-02  14.40"
            ]
          },
          "metadata": {
            "tags": []
          },
          "execution_count": 6
        }
      ]
    },
    {
      "cell_type": "markdown",
      "metadata": {
        "id": "xqmsJ6ZqVRxu",
        "colab_type": "text"
      },
      "source": [
        "## Manually chose frequency for temperature averages. Ex: (Yearly, Monthly) by changing the avgfreg variable."
      ]
    },
    {
      "cell_type": "code",
      "metadata": {
        "id": "BnlE6HkIsRZM",
        "colab_type": "code",
        "outputId": "d3431448-6ae5-4b3f-e935-ceff6de550be",
        "colab": {
          "base_uri": "https://localhost:8080/",
          "height": 446
        }
      },
      "source": [
        "# yearstoget = np.arange(1949,2020)\n",
        "# Choose the frequency that you want averages for\n",
        "#avgfreq = 'Y'\n",
        "avgfreq = 'M'\n",
        "#avgfreq = 'W'\n",
        "if avgfreq == 'Y':\n",
        "    headername = 'Yearly Average Temperature'\n",
        "    numperyear = 1\n",
        "if avgfreq == 'M':\n",
        "    headername = 'Monthly Average Temperature'\n",
        "    numperyear = 12\n",
        "if avgfreq == 'W':\n",
        "    headername = 'Weekly Average Temperature'\n",
        "\n",
        "# Creates temperature anomalies\n",
        "df = df.groupby(pd.Grouper(freq=avgfreq)).mean()\n",
        "df.index = pd.to_datetime(df.index, format='%Y-%m-%d').year\n",
        "df.columns = [headername]\n",
        "df['Anomalies'] = (df[headername] - df[headername].mean())\n",
        "df\n"
      ],
      "execution_count": 14,
      "outputs": [
        {
          "output_type": "execute_result",
          "data": {
            "text/html": [
              "<div>\n",
              "<style scoped>\n",
              "    .dataframe tbody tr th:only-of-type {\n",
              "        vertical-align: middle;\n",
              "    }\n",
              "\n",
              "    .dataframe tbody tr th {\n",
              "        vertical-align: top;\n",
              "    }\n",
              "\n",
              "    .dataframe thead th {\n",
              "        text-align: right;\n",
              "    }\n",
              "</style>\n",
              "<table border=\"1\" class=\"dataframe\">\n",
              "  <thead>\n",
              "    <tr style=\"text-align: right;\">\n",
              "      <th></th>\n",
              "      <th>Monthly Average Temperature</th>\n",
              "      <th>Anomalies</th>\n",
              "    </tr>\n",
              "    <tr>\n",
              "      <th>date</th>\n",
              "      <th></th>\n",
              "      <th></th>\n",
              "    </tr>\n",
              "  </thead>\n",
              "  <tbody>\n",
              "    <tr>\n",
              "      <th>1949</th>\n",
              "      <td>-1.130645</td>\n",
              "      <td>-12.032906</td>\n",
              "    </tr>\n",
              "    <tr>\n",
              "      <th>1949</th>\n",
              "      <td>-0.246429</td>\n",
              "      <td>-11.148690</td>\n",
              "    </tr>\n",
              "    <tr>\n",
              "      <th>1949</th>\n",
              "      <td>4.525806</td>\n",
              "      <td>-6.376455</td>\n",
              "    </tr>\n",
              "    <tr>\n",
              "      <th>1949</th>\n",
              "      <td>10.078333</td>\n",
              "      <td>-0.823928</td>\n",
              "    </tr>\n",
              "    <tr>\n",
              "      <th>1949</th>\n",
              "      <td>17.674194</td>\n",
              "      <td>6.771932</td>\n",
              "    </tr>\n",
              "    <tr>\n",
              "      <th>...</th>\n",
              "      <td>...</td>\n",
              "      <td>...</td>\n",
              "    </tr>\n",
              "    <tr>\n",
              "      <th>2019</th>\n",
              "      <td>22.066129</td>\n",
              "      <td>11.163868</td>\n",
              "    </tr>\n",
              "    <tr>\n",
              "      <th>2019</th>\n",
              "      <td>21.795000</td>\n",
              "      <td>10.892739</td>\n",
              "    </tr>\n",
              "    <tr>\n",
              "      <th>2019</th>\n",
              "      <td>12.445161</td>\n",
              "      <td>1.542900</td>\n",
              "    </tr>\n",
              "    <tr>\n",
              "      <th>2019</th>\n",
              "      <td>1.888333</td>\n",
              "      <td>-9.013928</td>\n",
              "    </tr>\n",
              "    <tr>\n",
              "      <th>2019</th>\n",
              "      <td>0.738710</td>\n",
              "      <td>-10.163551</td>\n",
              "    </tr>\n",
              "  </tbody>\n",
              "</table>\n",
              "<p>852 rows × 2 columns</p>\n",
              "</div>"
            ],
            "text/plain": [
              "      Monthly Average Temperature  Anomalies\n",
              "date                                        \n",
              "1949                    -1.130645 -12.032906\n",
              "1949                    -0.246429 -11.148690\n",
              "1949                     4.525806  -6.376455\n",
              "1949                    10.078333  -0.823928\n",
              "1949                    17.674194   6.771932\n",
              "...                           ...        ...\n",
              "2019                    22.066129  11.163868\n",
              "2019                    21.795000  10.892739\n",
              "2019                    12.445161   1.542900\n",
              "2019                     1.888333  -9.013928\n",
              "2019                     0.738710 -10.163551\n",
              "\n",
              "[852 rows x 2 columns]"
            ]
          },
          "metadata": {
            "tags": []
          },
          "execution_count": 14
        }
      ]
    },
    {
      "cell_type": "code",
      "metadata": {
        "id": "gVY0MaUqvcBd",
        "colab_type": "code",
        "outputId": "1d2fd887-13fb-46f0-8d5a-b3ff6ffe47a1",
        "colab": {
          "base_uri": "https://localhost:8080/",
          "height": 52
        }
      },
      "source": [
        "# A cell for quickly checking the min and max anomalies for color scale purposes.\n",
        "print(min(df['Anomalies'].values))\n",
        "print(max(df['Anomalies'].values))\n"
      ],
      "execution_count": 15,
      "outputs": [
        {
          "output_type": "stream",
          "text": [
            "-24.405486911691277\n",
            "17.204190507663554\n"
          ],
          "name": "stdout"
        }
      ]
    },
    {
      "cell_type": "markdown",
      "metadata": {
        "id": "iFXj7df7ltk5",
        "colab_type": "text"
      },
      "source": [
        "## This cell checks for any data anomalies that may affect anomalies data. It then lets you chose your own anomaly values."
      ]
    },
    {
      "cell_type": "code",
      "metadata": {
        "id": "lqz9qnZgbN0M",
        "colab_type": "code",
        "outputId": "4946ecce-0b19-42b3-b623-cf69bdcee6b4",
        "colab": {
          "base_uri": "https://localhost:8080/",
          "height": 260
        }
      },
      "source": [
        "print(df.nlargest(5,'Anomalies'))\n",
        "print(df.nsmallest(5,'Anomalies'))"
      ],
      "execution_count": 16,
      "outputs": [
        {
          "output_type": "stream",
          "text": [
            "      Monthly Average Temperature  Anomalies\n",
            "date                                        \n",
            "2012                    28.106452  17.204191\n",
            "2011                    27.340323  16.438061\n",
            "1955                    26.596667  15.694406\n",
            "1995                    26.595161  15.692900\n",
            "1966                    26.524194  15.621932\n",
            "      Monthly Average Temperature  Anomalies\n",
            "date                                        \n",
            "1977                   -13.503226 -24.405487\n",
            "1978                   -10.232143 -21.134404\n",
            "1982                   -10.159677 -21.061939\n",
            "1978                    -9.733929 -20.636190\n",
            "1979                    -9.234000 -20.136261\n"
          ],
          "name": "stdout"
        }
      ]
    },
    {
      "cell_type": "markdown",
      "metadata": {
        "id": "CMym3L-ll8l9",
        "colab_type": "text"
      },
      "source": [
        "## Plotting our climate stripes. Remember to set vmin and vmax values to avoid dates that do not have full datasets"
      ]
    },
    {
      "cell_type": "code",
      "metadata": {
        "id": "e7eEbG2_yot0",
        "colab_type": "code",
        "outputId": "b42dee79-7260-4c61-9eec-b7ee19b779b2",
        "colab": {
          "base_uri": "https://localhost:8080/",
          "height": 197
        }
      },
      "source": [
        "# Yearly plot\n",
        "plt.figure(figsize=(12,10))\n",
        "\n",
        "ax = plt.matshow(df['Anomalies'][np.newaxis,:], cmap='coolwarm', aspect = 'auto', vmin = -3, vmax = 3)\n",
        "ax.axes.get_yaxis().set_visible(False)\n",
        "ax.axes.set_xticklabels(yearstoget[0::10])\n",
        "ax.axes.tick_params(axis=\"x\", bottom=True, top=False, labelbottom=True, labeltop=False)\n",
        "ax.axes.set_xlim(left = 0, right = len(yearstoget)-1)\n",
        "ax.axes.set_xlabel('Year') \n",
        "\n",
        "ax2 = plt.twinx()\n",
        "ax2.plot(np.arange(0,len(yearstoget)), df[headername], color = 'black')\n",
        "ax2.plot(np.arange(0,len(yearstoget)), df[headername], 'ko')\n",
        "ax2.axes.set_ylabel('Average annual \\n maximum temperature \\n (deg C)')\n",
        " \n",
        "plt.show()"
      ],
      "execution_count": 11,
      "outputs": [
        {
          "output_type": "display_data",
          "data": {
            "text/plain": [
              "<Figure size 864x720 with 0 Axes>"
            ]
          },
          "metadata": {
            "tags": []
          }
        },
        {
          "output_type": "display_data",
          "data": {
            "image/png": "[encoded data removed]",
            "text/plain": [
              "<Figure size 1152x144 with 2 Axes>"
            ]
          },
          "metadata": {
            "tags": []
          }
        }
      ]
    },
    {
      "cell_type": "code",
      "metadata": {
        "id": "PumXTTU0Xrp8",
        "colab_type": "code",
        "colab": {
          "base_uri": "https://localhost:8080/",
          "height": 121
        },
        "outputId": "e271cb71-f2c5-4f29-e203-63cfc5719ebb"
      },
      "source": [
        "np.arange(0,841,12)"
      ],
      "execution_count": 25,
      "outputs": [
        {
          "output_type": "execute_result",
          "data": {
            "text/plain": [
              "array([  0,  12,  24,  36,  48,  60,  72,  84,  96, 108, 120, 132, 144,\n",
              "       156, 168, 180, 192, 204, 216, 228, 240, 252, 264, 276, 288, 300,\n",
              "       312, 324, 336, 348, 360, 372, 384, 396, 408, 420, 432, 444, 456,\n",
              "       468, 480, 492, 504, 516, 528, 540, 552, 564, 576, 588, 600, 612,\n",
              "       624, 636, 648, 660, 672, 684, 696, 708, 720, 732, 744, 756, 768,\n",
              "       780, 792, 804, 816, 828, 840])"
            ]
          },
          "metadata": {
            "tags": []
          },
          "execution_count": 25
        }
      ]
    },
    {
      "cell_type": "code",
      "metadata": {
        "id": "zx9-RWgpLLD1",
        "colab_type": "code",
        "colab": {
          "base_uri": "https://localhost:8080/",
          "height": 197
        },
        "outputId": "424a2a90-a038-4825-a102-7ad2a6ff186b"
      },
      "source": [
        "# Monthly plot\n",
        "plt.figure(figsize=(12,10))\n",
        "\n",
        "ax = plt.matshow(df['Anomalies'][np.newaxis,:], cmap='coolwarm', aspect = 'auto', vmin = -25, vmax = 25)\n",
        "ax.axes.get_yaxis().set_visible(False)\n",
        "ax.axes.set_xticks(np.arange(0,841,120))\n",
        "ax.axes.set_xticklabels(yearstoget[0::10])\n",
        "ax.axes.tick_params(axis=\"x\", bottom=True, top=False, labelbottom=True, labeltop=False)\n",
        "ax.axes.set_xlim(left = 0, right = (len(yearstoget)-1)*numperyear)\n",
        "ax.axes.set_xlabel('Month') \n",
        "\n",
        "ax2 = plt.twinx()\n",
        "ax2.plot(np.arange(0,len(yearstoget)*numperyear), df[headername], color = 'black')\n",
        "ax2.plot(np.arange(0,len(yearstoget)*numperyear), df[headername], 'ko')\n",
        "ax2.axes.set_ylabel('Average monthly \\n maximum temperature \\n (deg C)')\n",
        " \n",
        "plt.show()"
      ],
      "execution_count": 27,
      "outputs": [
        {
          "output_type": "display_data",
          "data": {
            "text/plain": [
              "<Figure size 864x720 with 0 Axes>"
            ]
          },
          "metadata": {
            "tags": []
          }
        },
        {
          "output_type": "display_data",
          "data": {
            "image/png": "[encoded data removed]",
            "text/plain": [
              "<Figure size 1152x144 with 2 Axes>"
            ]
          },
          "metadata": {
            "tags": []
          }
        }
      ]
    },
    {
      "cell_type": "code",
      "metadata": {
        "id": "6N2GvEpdWFSA",
        "colab_type": "code",
        "colab": {}
      },
      "source": [
        ""
      ],
      "execution_count": 0,
      "outputs": []
    }
  ]
}
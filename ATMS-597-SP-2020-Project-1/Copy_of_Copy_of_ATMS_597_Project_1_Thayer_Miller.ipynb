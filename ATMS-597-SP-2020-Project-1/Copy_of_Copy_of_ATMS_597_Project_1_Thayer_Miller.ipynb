{
  "nbformat": 4,
  "nbformat_minor": 0,
  "metadata": {
    "colab": {
      "name": "Copy of Copy of ATMS-597-Project-1_Thayer.ipynb",
      "provenance": [],
      "collapsed_sections": [],
      "include_colab_link": true
    },
    "kernelspec": {
      "name": "python3",
      "display_name": "Python 3"
    }
  },
  "cells": [
    {
      "cell_type": "markdown",
      "metadata": {
        "id": "view-in-github",
        "colab_type": "text"
      },
      "source": [
        "<a href=\"https://colab.research.google.com/github/rmiller34/ATMS-597-SP-2020/blob/master/Copy_of_Copy_of_ATMS_597_Project_1_Thayer_Miller.ipynb\" target=\"_parent\"><img src=\"https://colab.research.google.com/assets/colab-badge.svg\" alt=\"Open In Colab\"/></a>"
      ]
    },
    {
      "cell_type": "markdown",
      "metadata": {
        "id": "KnNoTce5eqR-",
        "colab_type": "text"
      },
      "source": [
        "ATMS-597-SP-2020 Project 1\n",
        "Task: Create an object-oriented python module that converts temperatures interchangeably between degrees Celsius, Fahrenheit, and Kelvin.\n",
        "\n",
        "Group Members:Jeffrey Thayer, Carolina Bieri, Rose Miller\n",
        "\n"
      ]
    },
    {
      "cell_type": "markdown",
      "metadata": {
        "id": "2kS-l3oF0gok",
        "colab_type": "text"
      },
      "source": [
        "Installing needed libraries and importing packages"
      ]
    },
    {
      "cell_type": "code",
      "metadata": {
        "id": "Gxr1-0QTBix5",
        "colab_type": "code",
        "outputId": "f12b972c-52a0-458f-e082-3b5c37cedb52",
        "colab": {
          "base_uri": "https://localhost:8080/",
          "height": 245
        }
      },
      "source": [
        "!apt-get -qq install libproj-dev proj-data proj-bin libgeos-dev\n",
        "import numpy as np\n"
      ],
      "execution_count": 3,
      "outputs": [
        {
          "output_type": "stream",
          "text": [
            "Selecting previously unselected package libgeos-dev.\n",
            "(Reading database ... 135004 files and directories currently installed.)\n",
            "Preparing to unpack .../libgeos-dev_3.6.2-1build2_amd64.deb ...\n",
            "Unpacking libgeos-dev (3.6.2-1build2) ...\n",
            "Selecting previously unselected package libproj-dev:amd64.\n",
            "Preparing to unpack .../libproj-dev_4.9.3-2_amd64.deb ...\n",
            "Unpacking libproj-dev:amd64 (4.9.3-2) ...\n",
            "Selecting previously unselected package proj-bin.\n",
            "Preparing to unpack .../proj-bin_4.9.3-2_amd64.deb ...\n",
            "Unpacking proj-bin (4.9.3-2) ...\n",
            "Setting up libproj-dev:amd64 (4.9.3-2) ...\n",
            "Setting up libgeos-dev (3.6.2-1build2) ...\n",
            "Setting up proj-bin (4.9.3-2) ...\n",
            "Processing triggers for man-db (2.8.3-2ubuntu0.1) ...\n"
          ],
          "name": "stdout"
        }
      ]
    },
    {
      "cell_type": "code",
      "metadata": {
        "id": "kt-yPTgxeDe6",
        "colab_type": "code",
        "colab": {}
      },
      "source": [
        "# ATMS-597-Project\n",
        "# \n",
        "class temp_array():\n",
        "    \"\"\"A class to convert temperatures\"\"\"\n",
        "    # Here we are defining the function for temperature values and units\n",
        "    def __init__(self,temp_values,temp_units):  # This is a special function to initiate a method \n",
        "        self.temp_values = temp_values\n",
        "        self.temp_units = temp_units\n",
        "    # Here we are defining the function for temperature conversion between Kelvin, Celsius, and Fahrenheit\n",
        "    def tempconvert(self,to):\n",
        "\n",
        "        if type(self.temp_values) == list:\n",
        "          self.temp_values = np.asarray(self.temp_values)\n",
        "    # Here we are setting up elif loops to convert temperatures stated in Celsuis to Kelvin and Fahrenheit\n",
        "        if self.temp_units == \"C\" and to == \"toC\":\n",
        "          print (\"Values are already in degrees C\")\n",
        "        elif self.temp_units == \"C\" and to == \"toK\":\n",
        "          return temp_array(self.temp_values + 273.15,\"K\")\n",
        "        elif self.temp_units == \"C\" and to == \"toF\":\n",
        "          return temp_array(self.temp_values * 9.0 / 5.0 + 32.0,\"F\")\n",
        "        elif self.temp_units == \"C\":\n",
        "          print(\"Error: incompatible temperature unit. Units converting to must be Fahrenheit or Kelvin.\")\n",
        "    # Here we are setting up elif loops to convert temperatures stated in Kelvin to Celsuis and Fahrenheit\n",
        "        if self.temp_units == \"K\" and to == \"toK\":\n",
        "          print (\"Values are already in degrees K\")\n",
        "        elif self.temp_units == \"K\" and to == \"toC\":\n",
        "          return temp_array(self.temp_values - 273.15,\"C\")\n",
        "        elif self.temp_units == \"K\" and to == \"toF\":\n",
        "          return temp_array((self.temp_values - 273.15) * 9.0 / 5.0 + 32.0,\"F\")\n",
        "        elif self.temp_units == \"K\":\n",
        "          print(\"Error: incompatible temperature unit. Units converting to must be Celsius or Fahrenheit.\")\n",
        "    # Here we are setting up elif loops to convert temperatures stated in Fahrenheit to Celsuis and Kelvin \n",
        "        if self.temp_units == \"F\" and to == \"toF\":\n",
        "          print (\"Values are already in degrees F\")\n",
        "        elif self.temp_units == \"F\" and to == \"toK\":\n",
        "          return temp_array((self.temp_values - 32.0) * (5.0 / 9.0) + 273.15,\"K\")\n",
        "        elif self.temp_units == \"F\" and to == \"toC\":\n",
        "          return temp_array((self.temp_values - 32.0) * (5.0 / 9.0),\"C\")\n",
        "        elif self.temp_units == \"F\":\n",
        "          print(\"Error: incompatible temperature unit. Units converting to must be Celsius or Kelvin.\")"
      ],
      "execution_count": 0,
      "outputs": []
    },
    {
      "cell_type": "code",
      "metadata": {
        "id": "tlKTunXgyiL3",
        "colab_type": "code",
        "outputId": "f1ecce00-842c-4d5f-c7cc-4cef73a44c22",
        "colab": {
          "base_uri": "https://localhost:8080/",
          "height": 66
        }
      },
      "source": [
        "if __name__ == \"__main__\":\n",
        "  temp = temp_array(50., 'C')\n",
        "  temp_in_K = temp.tempconvert('toK')\n",
        "  print('Original temp was ' + str(temp.temp_values) + str(temp.temp_units) +\n",
        "        ', new temp is ' + str(temp_in_K.temp_values) + str(temp_in_K.temp_units) + '.')\n",
        "\n",
        "  temp_arr = temp_array(np.asarray([50., 60., 70., 80.]), 'F')\n",
        "  temp_arr_in_C = temp_arr.tempconvert('toC')\n",
        "  print('Original temps were ' + str(temp_arr.temp_values) + str(temp_arr.temp_units) +\n",
        "        ', new temps are ' + str(temp_arr_in_C.temp_values) + str(temp_arr_in_C.temp_units) + '.')\n",
        "  \n",
        "  temp_list = temp_array([300., 270., 250., 299.], 'K')\n",
        "  temp_list_in_C = temp_list.tempconvert('toC')\n",
        "  print('Original temps were ' + str(temp_list.temp_values) + str(temp_list.temp_units) +\n",
        "        ', new temps are ' + str(temp_list_in_C.temp_values) + str(temp_list_in_C.temp_units) + '.')"
      ],
      "execution_count": 5,
      "outputs": [
        {
          "output_type": "stream",
          "text": [
            "Original temp was 50.0C, new temp is 323.15K.\n",
            "Original temps were [50. 60. 70. 80.]F, new temps are [10.         15.55555556 21.11111111 26.66666667]C.\n",
            "Original temps were [300. 270. 250. 299.]K, new temps are [ 26.85  -3.15 -23.15  25.85]C.\n"
          ],
          "name": "stdout"
        }
      ]
    },
    {
      "cell_type": "code",
      "metadata": {
        "id": "MBzkpRz5rr4C",
        "colab_type": "code",
        "colab": {}
      },
      "source": [
        ""
      ],
      "execution_count": 0,
      "outputs": []
    }
  ]
}

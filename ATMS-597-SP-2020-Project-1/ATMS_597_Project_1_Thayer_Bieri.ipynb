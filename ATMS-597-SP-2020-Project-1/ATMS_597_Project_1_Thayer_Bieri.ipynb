{
  "nbformat": 4,
  "nbformat_minor": 0,
  "metadata": {
    "colab": {
      "name": "Copy of  ATMS-597-Project-1_Thayer.ipynb",
      "provenance": [],
      "collapsed_sections": [],
      "include_colab_link": true
    },
    "kernelspec": {
      "name": "python3",
      "display_name": "Python 3"
    }
  },
  "cells": [
    {
      "cell_type": "markdown",
      "metadata": {
        "id": "view-in-github",
        "colab_type": "text"
      },
      "source": [
        "<a href=\"https://colab.research.google.com/github/bieri2/ATMS-597-SP-2020/blob/edits/ATMS_597_Project_1_Thayer_Bieri.ipynb\" target=\"_parent\"><img src=\"https://colab.research.google.com/assets/colab-badge.svg\" alt=\"Open In Colab\"/></a>"
      ]
    },
    {
      "cell_type": "markdown",
      "metadata": {
        "id": "KnNoTce5eqR-",
        "colab_type": "text"
      },
      "source": [
        "ATMS-597-SP-2020 Project 1\n",
        "Task: Create an object-oriented python module that converts temperatures interchangeably between degrees Celsius, Fahrenheit, and Kelvin.\n",
        "\n",
        "Group Members:Jeffrey Thayer, Carolina Bieri, Rose Miller\n",
        "\n"
      ]
    },
    {
      "cell_type": "markdown",
      "metadata": {
        "id": "2kS-l3oF0gok",
        "colab_type": "text"
      },
      "source": [
        "Installing needed libraries and importing packages"
      ]
    },
    {
      "cell_type": "code",
      "metadata": {
        "id": "Gxr1-0QTBix5",
        "colab_type": "code",
        "colab": {}
      },
      "source": [
        "!apt-get -qq install libproj-dev proj-data proj-bin libgeos-dev\n",
        "import numpy as np\n"
      ],
      "execution_count": 0,
      "outputs": []
    },
    {
      "cell_type": "code",
      "metadata": {
        "id": "kt-yPTgxeDe6",
        "colab_type": "code",
        "colab": {}
      },
      "source": [
        "# ATMS-597-Project\n",
        "# \n",
        "class temp_array():\n",
        "    \"\"\"A class to convert temperatures\"\"\"\n",
        "    # Here we are defining the function for temperature values and units\n",
        "    def __init__(self, temp_values, temp_units):  # This is a special function to initiate a method \n",
        "        self.temp_values = temp_values\n",
        "        self.temp_units = temp_units\n",
        "    # Here we are defining the function for temperature conversion between Kelvin, Celsius, and Fahrenheit\n",
        "    def tempconvert(self, to):\n",
        "\n",
        "        if type(self.temp_values) == list:\n",
        "          self.temp_values = np.asarray(self.temp_values)\n",
        "    # Here we are setting up elif loops to convert temperatures stated in Celsuis to Kelvin and Fahrenheit\n",
        "        if self.temp_units == \"C\" and to == \"toC\":\n",
        "          print (\"Values are already in degrees C\")\n",
        "        elif self.temp_units == \"C\" and to == \"toK\":\n",
        "          return temp_array(self.temp_values + 273.15,\"K\")\n",
        "        elif self.temp_units == \"C\" and to == \"toF\":\n",
        "          return temp_array(self.temp_values * 9.0 / 5.0 + 32.0,\"F\")\n",
        "        elif self.temp_units == \"C\":\n",
        "          print(\"Error: incompatible temperature unit. Units converting to must be Fahrenheit or Kelvin.\")\n",
        "    # Here we are setting up elif loops to convert temperatures stated in Kelvin to Celsuis and Fahrenheit\n",
        "        if self.temp_units == \"K\" and to == \"toK\":\n",
        "          print (\"Values are already in degrees K\")\n",
        "        elif self.temp_units == \"K\" and to == \"toC\":\n",
        "          return temp_array(self.temp_values - 273.15,\"C\")\n",
        "        elif self.temp_units == \"K\" and to == \"toF\":\n",
        "          return temp_array((self.temp_values - 273.15) * 9.0 / 5.0 + 32.0,\"F\")\n",
        "        elif self.temp_units == \"K\":\n",
        "          print(\"Error: incompatible temperature unit. Units converting to must be Celsius or Fahrenheit.\")\n",
        "    # Here we are setting up elif loops to convert temperatures stated in Fahrenheit to Celsuis and Kelvin \n",
        "        if self.temp_units == \"F\" and to == \"toF\":\n",
        "          print (\"Values are already in degrees F\")\n",
        "        elif self.temp_units == \"F\" and to == \"toK\":\n",
        "          return temp_array((self.temp_values - 32.0) * (5.0 / 9.0) + 273.15,\"K\")\n",
        "        elif self.temp_units == \"F\" and to == \"toC\":\n",
        "          return temp_array((self.temp_values - 32.0) * (5.0 / 9.0),\"C\")\n",
        "        elif self.temp_units == \"F\":\n",
        "          print(\"Error: incompatible temperature unit. Units converting to must be Celsius or Kelvin.\")\n",
        "\n",
        "    def print_nice_output(self, orig_values, orig_units, array = False):\n",
        "        \n",
        "        if array:\n",
        "            print('Original temps were:') \n",
        "            for i in range(np.size(orig_values)):\n",
        "                print('{0:3.2f}'.format(orig_values[i]), orig_units) \n",
        "            print('New temps are:')\n",
        "            for i in range(np.size(self.temp_values)):\n",
        "                print('{0:3.2f}'.format(self.temp_values[i]), self.temp_units)\n",
        "        else: \n",
        "            print('Original temp was {0:3.2f}'.format(orig_values) + orig_units\n",
        "            + ', new temp is {0:3.2f}'.format(self.temp_values) + self.temp_units + '.')"
      ],
      "execution_count": 0,
      "outputs": []
    },
    {
      "cell_type": "code",
      "metadata": {
        "id": "tlKTunXgyiL3",
        "colab_type": "code",
        "outputId": "e55bf49d-53b5-455b-c520-0d8cb7e26464",
        "colab": {
          "base_uri": "https://localhost:8080/",
          "height": 381
        }
      },
      "source": [
        "# Below are examples demonstrating the functionality of the temp_array class\n",
        "\n",
        "# Run this code if this is the main script\n",
        "if __name__ == \"__main__\":\n",
        "\n",
        "\n",
        "    # Example of functionality with a single temperature value\n",
        "  \n",
        "    # Create class instance\n",
        "    temp = temp_array(50, 'C')\n",
        "    # Convert to new units\n",
        "    temp_in_K = temp.tempconvert('toK')\n",
        "    # Print output \n",
        "    temp_in_K.print_nice_output(temp.temp_values, temp.temp_units)\n",
        "\n",
        "\n",
        "    # Example of functionality with an array of temperatures \n",
        "\n",
        "    # Create class instance\n",
        "    temp_arr = temp_array(np.asarray([50., 60., 70., 80.]), 'F')\n",
        "    # Convert to new units\n",
        "    temp_arr_in_C = temp_arr.tempconvert('toC')\n",
        "    # Print output\n",
        "    temp_arr_in_C.print_nice_output(temp_arr.temp_values, temp_arr.temp_units, array = True)\n",
        "\n",
        "    # Example of functionality with a list of temperatures\n",
        "\n",
        "    # Create class instance\n",
        "    temp_list = temp_array([300., 270., 250., 299.], 'K')\n",
        "    # Convert to new units\n",
        "    temp_list_in_C = temp_list.tempconvert('toC')\n",
        "    # Print output\n",
        "    temp_list_in_C.print_nice_output(temp_list.temp_values, temp_list.temp_units, array = True)"
      ],
      "execution_count": 22,
      "outputs": [
        {
          "output_type": "stream",
          "text": [
            "Original temp was 50.00C, new temp is 323.15K.\n",
            "Original temps were:\n",
            "50.00 F\n",
            "60.00 F\n",
            "70.00 F\n",
            "80.00 F\n",
            "New temps are:\n",
            "10.00 C\n",
            "15.56 C\n",
            "21.11 C\n",
            "26.67 C\n",
            "Original temps were:\n",
            "300.00 K\n",
            "270.00 K\n",
            "250.00 K\n",
            "299.00 K\n",
            "New temps are:\n",
            "26.85 C\n",
            "-3.15 C\n",
            "-23.15 C\n",
            "25.85 C\n"
          ],
          "name": "stdout"
        }
      ]
    },
    {
      "cell_type": "code",
      "metadata": {
        "id": "MBzkpRz5rr4C",
        "colab_type": "code",
        "colab": {}
      },
      "source": [
        ""
      ],
      "execution_count": 0,
      "outputs": []
    }
  ]
}

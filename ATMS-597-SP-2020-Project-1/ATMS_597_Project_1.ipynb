{
  "nbformat": 4,
  "nbformat_minor": 0,
  "metadata": {
    "colab": {
      "name": "ATMS-597-Project-1.ipynb",
      "provenance": [],
      "collapsed_sections": [],
      "authorship_tag": "ABX9TyPsn+0vaAzHMqaC0tU1VHYw",
      "include_colab_link": true
    },
    "kernelspec": {
      "name": "python3",
      "display_name": "Python 3"
    }
  },
  "cells": [
    {
      "cell_type": "markdown",
      "metadata": {
        "id": "view-in-github",
        "colab_type": "text"
      },
      "source": [
        "<a href=\"https://colab.research.google.com/github/rmiller34/ATMS-597-SP-2020/blob/master/ATMS_597_Project_1.ipynb\" target=\"_parent\"><img src=\"https://colab.research.google.com/assets/colab-badge.svg\" alt=\"Open In Colab\"/></a>"
      ]
    },
    {
      "cell_type": "markdown",
      "metadata": {
        "id": "KnNoTce5eqR-",
        "colab_type": "text"
      },
      "source": [
        "ATMS-597-SP-2020 Project 1\n",
        "Task: Create an object-oriented python module that converts temperatures interchangeably between degrees Celsius, Fahrenheit, and Kelvin.\n",
        "\n",
        "Group Members:Jeffrey Thayer, Carolina Bieri, Rose Miller\n",
        "\n"
      ]
    },
    {
      "cell_type": "code",
      "metadata": {
        "id": "Gxr1-0QTBix5",
        "colab_type": "code",
        "colab": {
          "base_uri": "https://localhost:8080/",
          "height": 683
        },
        "outputId": "8bf3e90c-8030-4800-f181-0216ea0bacb8"
      },
      "source": [
        "!apt-get -qq install libproj-dev proj-data proj-bin libgeos-dev\n",
        "!pip install Cython\n",
        "!pip install cartopy"
      ],
      "execution_count": 3,
      "outputs": [
        {
          "output_type": "stream",
          "text": [
            "Selecting previously unselected package libgeos-dev.\n",
            "(Reading database ... 135004 files and directories currently installed.)\n",
            "Preparing to unpack .../libgeos-dev_3.6.2-1build2_amd64.deb ...\n",
            "Unpacking libgeos-dev (3.6.2-1build2) ...\n",
            "Selecting previously unselected package libproj-dev:amd64.\n",
            "Preparing to unpack .../libproj-dev_4.9.3-2_amd64.deb ...\n",
            "Unpacking libproj-dev:amd64 (4.9.3-2) ...\n",
            "Selecting previously unselected package proj-bin.\n",
            "Preparing to unpack .../proj-bin_4.9.3-2_amd64.deb ...\n",
            "Unpacking proj-bin (4.9.3-2) ...\n",
            "Setting up libproj-dev:amd64 (4.9.3-2) ...\n",
            "Setting up libgeos-dev (3.6.2-1build2) ...\n",
            "Setting up proj-bin (4.9.3-2) ...\n",
            "Processing triggers for man-db (2.8.3-2ubuntu0.1) ...\n",
            "Requirement already satisfied: Cython in /usr/local/lib/python3.6/dist-packages (0.29.14)\n",
            "Collecting cartopy\n",
            "\u001b[?25l  Downloading https://files.pythonhosted.org/packages/e5/92/fe8838fa8158931906dfc4f16c5c1436b3dd2daf83592645b179581403ad/Cartopy-0.17.0.tar.gz (8.9MB)\n",
            "\u001b[K     |████████████████████████████████| 8.9MB 2.8MB/s \n",
            "\u001b[?25h  Installing build dependencies ... \u001b[?25l\u001b[?25hdone\n",
            "  Getting requirements to build wheel ... \u001b[?25l\u001b[?25hdone\n",
            "    Preparing wheel metadata ... \u001b[?25l\u001b[?25hdone\n",
            "Collecting pyshp>=1.1.4\n",
            "\u001b[?25l  Downloading https://files.pythonhosted.org/packages/27/16/3bf15aa864fb77845fab8007eda22c2bd67bd6c1fd13496df452c8c43621/pyshp-2.1.0.tar.gz (215kB)\n",
            "\u001b[K     |████████████████████████████████| 225kB 41.7MB/s \n",
            "\u001b[?25hRequirement already satisfied: shapely>=1.5.6 in /usr/local/lib/python3.6/dist-packages (from cartopy) (1.6.4.post2)\n",
            "Requirement already satisfied: numpy>=1.10 in /usr/local/lib/python3.6/dist-packages (from cartopy) (1.17.5)\n",
            "Requirement already satisfied: six>=1.3.0 in /usr/local/lib/python3.6/dist-packages (from cartopy) (1.12.0)\n",
            "Requirement already satisfied: setuptools>=0.7.2 in /usr/local/lib/python3.6/dist-packages (from cartopy) (42.0.2)\n",
            "Building wheels for collected packages: cartopy\n",
            "  Building wheel for cartopy (PEP 517) ... \u001b[?25l\u001b[?25hdone\n",
            "  Created wheel for cartopy: filename=Cartopy-0.17.0-cp36-cp36m-linux_x86_64.whl size=9713548 sha256=a7410633e60d1403699dd8ec2fc75c53222a259ea03ca1936c29e779333bafc6\n",
            "  Stored in directory: /root/.cache/pip/wheels/cd/cf/40/539f798f94e921e94fd376a5f9d213a6febe77754c0b187c73\n",
            "Successfully built cartopy\n",
            "Building wheels for collected packages: pyshp\n",
            "  Building wheel for pyshp (setup.py) ... \u001b[?25l\u001b[?25hdone\n",
            "  Created wheel for pyshp: filename=pyshp-2.1.0-cp36-none-any.whl size=32607 sha256=85a971013dde082728c55e1a0c9cb52a1360df0f78a976bab4d9e0dfdf78ff3c\n",
            "  Stored in directory: /root/.cache/pip/wheels/a6/0c/de/321b5192ad416b328975a2f0385f72c64db4656501eba7cc1a\n",
            "Successfully built pyshp\n",
            "Installing collected packages: pyshp, cartopy\n",
            "Successfully installed cartopy-0.17.0 pyshp-2.1.0\n"
          ],
          "name": "stdout"
        }
      ]
    },
    {
      "cell_type": "code",
      "metadata": {
        "id": "kt-yPTgxeDe6",
        "colab_type": "code",
        "colab": {
          "base_uri": "https://localhost:8080/",
          "height": 228
        },
        "outputId": "35372ed5-99b6-4d2f-a38b-a52caabe8ca5"
      },
      "source": [
        "#ATMS-597-Project\n",
        "class temp_array():\n",
        "  def __init__(self,temp_values,temp_units):\n",
        "    self.temp_values=values\n",
        "    self.temp_units=units\n",
        "  \n",
        "  def tempconvert(self,to):\n",
        "\n",
        "    if self.temp_units==\"C\" and to== \"toC\":\n",
        "      print (\"Values are already in degress C\")\n",
        "      return self\n",
        "    if self.temp_units==\"C\" and to==\"toK\":\n",
        "      return temp_array([x + 273.15 for x in self.temp_values],\"K\")\n",
        "    if self.temp_units==\"C\" and to==\"toF\":\n",
        "      return temp_array([x * 9.0 / 5.0 + 32.0 for x in self.temp_values],\"F\")\n",
        "\n",
        "temp = temp_array(\"30\")\n",
        "temp = temp_units(\"F\")\n",
        "temp.__init__()\n",
        "temp_array.tempconvert()"
      ],
      "execution_count": 13,
      "outputs": [
        {
          "output_type": "error",
          "ename": "TypeError",
          "evalue": "ignored",
          "traceback": [
            "\u001b[0;31m---------------------------------------------------------------------------\u001b[0m",
            "\u001b[0;31mTypeError\u001b[0m                                 Traceback (most recent call last)",
            "\u001b[0;32m<ipython-input-13-f8bb4527101b>\u001b[0m in \u001b[0;36m<module>\u001b[0;34m()\u001b[0m\n\u001b[1;32m     14\u001b[0m       \u001b[0;32mreturn\u001b[0m \u001b[0mtemp_array\u001b[0m\u001b[0;34m(\u001b[0m\u001b[0;34m[\u001b[0m\u001b[0mx\u001b[0m \u001b[0;34m*\u001b[0m \u001b[0;36m9.0\u001b[0m \u001b[0;34m/\u001b[0m \u001b[0;36m5.0\u001b[0m \u001b[0;34m+\u001b[0m \u001b[0;36m32.0\u001b[0m \u001b[0;32mfor\u001b[0m \u001b[0mx\u001b[0m \u001b[0;32min\u001b[0m \u001b[0mself\u001b[0m\u001b[0;34m.\u001b[0m\u001b[0mtemp_values\u001b[0m\u001b[0;34m]\u001b[0m\u001b[0;34m,\u001b[0m\u001b[0;34m\"F\"\u001b[0m\u001b[0;34m)\u001b[0m\u001b[0;34m\u001b[0m\u001b[0;34m\u001b[0m\u001b[0m\n\u001b[1;32m     15\u001b[0m \u001b[0;34m\u001b[0m\u001b[0m\n\u001b[0;32m---> 16\u001b[0;31m \u001b[0mtemp\u001b[0m \u001b[0;34m=\u001b[0m \u001b[0mtemp_array\u001b[0m\u001b[0;34m(\u001b[0m\u001b[0;34m\"30\"\u001b[0m\u001b[0;34m)\u001b[0m\u001b[0;34m\u001b[0m\u001b[0;34m\u001b[0m\u001b[0m\n\u001b[0m\u001b[1;32m     17\u001b[0m \u001b[0mtemp\u001b[0m \u001b[0;34m=\u001b[0m \u001b[0mtemp_units\u001b[0m\u001b[0;34m(\u001b[0m\u001b[0;34m\"F\"\u001b[0m\u001b[0;34m)\u001b[0m\u001b[0;34m\u001b[0m\u001b[0;34m\u001b[0m\u001b[0m\n\u001b[1;32m     18\u001b[0m \u001b[0mtemp\u001b[0m\u001b[0;34m.\u001b[0m\u001b[0m__init__\u001b[0m\u001b[0;34m(\u001b[0m\u001b[0;34m)\u001b[0m\u001b[0;34m\u001b[0m\u001b[0;34m\u001b[0m\u001b[0m\n",
            "\u001b[0;31mTypeError\u001b[0m: __init__() missing 1 required positional argument: 'temp_units'"
          ]
        }
      ]
    },
    {
      "cell_type": "code",
      "metadata": {
        "id": "WtyTjADKB1fT",
        "colab_type": "code",
        "colab": {
          "base_uri": "https://localhost:8080/",
          "height": 33
        },
        "outputId": "0cdb652c-9871-4cb6-cd1b-eb97074b3369"
      },
      "source": [
        "class Person:\n",
        "    pass #empty\n",
        "p = Person()\n",
        "print(p)"
      ],
      "execution_count": 7,
      "outputs": [
        {
          "output_type": "stream",
          "text": [
            "<__main__.Person object at 0x7f1d2fcbd198>\n"
          ],
          "name": "stdout"
        }
      ]
    },
    {
      "cell_type": "code",
      "metadata": {
        "id": "v_LNU0NxB4KE",
        "colab_type": "code",
        "colab": {
          "base_uri": "https://localhost:8080/",
          "height": 267
        },
        "outputId": "ba04d731-9853-499d-f0fe-fb728899f794"
      },
      "source": [
        "class Robot:\n",
        "    \"\"\"Represents a robot, with a name.\"\"\"\n",
        "\n",
        "    # A class variable, counting the number of robots\n",
        "    population = 0\n",
        "\n",
        "    def __init__(self, name):\n",
        "        \"\"\"Initializes the data.\"\"\"\n",
        "        self.name = name\n",
        "        print(\"(Initializing {})\".format(self.name))\n",
        "\n",
        "        # When this person is created, the robot\n",
        "        # adds to the population\n",
        "        Robot.population += 1\n",
        "\n",
        "    def die(self):\n",
        "        \"\"\"I am dying.\"\"\"\n",
        "        print(\"{} is being destroyed!\".format(self.name))\n",
        "\n",
        "        Robot.population -= 1\n",
        "\n",
        "        if Robot.population == 0:\n",
        "            print(\"{} was the last one.\".format(self.name))\n",
        "        else:\n",
        "            print(\"There are still {:d} robots working.\".format(\n",
        "                Robot.population))\n",
        "\n",
        "    def say_hi(self):\n",
        "        \"\"\"Greeting by the robot.\n",
        "\n",
        "        Yeah, they can do that.\"\"\"\n",
        "        print(\"Greetings, my masters call me {}.\".format(self.name))\n",
        "\n",
        "    @classmethod\n",
        "    def how_many(cls):\n",
        "        \"\"\"Prints the current population.\"\"\"\n",
        "        print(\"We have {:d} robots.\".format(cls.population))\n",
        "\n",
        "\n",
        "droid1 = Robot(\"R2-D2\")\n",
        "droid1.say_hi()\n",
        "Robot.how_many()\n",
        "\n",
        "droid2 = Robot(\"C-3PO\")\n",
        "droid2.say_hi()\n",
        "Robot.how_many()\n",
        "\n",
        "print(\"\\nRobots can do some work here.\\n\")\n",
        "\n",
        "print(\"Robots have finished their work. So let's destroy them.\")\n",
        "droid1.die()\n",
        "droid2.die()\n",
        "\n",
        "Robot.how_many()"
      ],
      "execution_count": 8,
      "outputs": [
        {
          "output_type": "stream",
          "text": [
            "(Initializing R2-D2)\n",
            "Greetings, my masters call me R2-D2.\n",
            "We have 1 robots.\n",
            "(Initializing C-3PO)\n",
            "Greetings, my masters call me C-3PO.\n",
            "We have 2 robots.\n",
            "\n",
            "Robots can do some work here.\n",
            "\n",
            "Robots have finished their work. So let's destroy them.\n",
            "R2-D2 is being destroyed!\n",
            "There are still 1 robots working.\n",
            "C-3PO is being destroyed!\n",
            "C-3PO was the last one.\n",
            "We have 0 robots.\n"
          ],
          "name": "stdout"
        }
      ]
    }
  ]
}
